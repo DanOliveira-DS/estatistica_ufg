{
 "cells": [
  {
   "cell_type": "markdown",
   "metadata": {},
   "source": [
    "# Contextualização\n",
    "O conjunto de dados a ser analisado foi coletado no IBGE e diz respeito a **Pessoas indígenas, por situação do domicílio, localização do domicílio e condição de indígena, segundo o sexo e os grupos de idade - Brasil - 2010**. O Conjunto de dados e composto por três tabelas uma referente ao domicílio urbano outra ao domicílio rutal e uma geral que contempla a soma dos valores das duas tabelas anteriores. \n",
    "\n",
    "\n",
    "## Introdução a Análise Explorátoria de Dados\n",
    "Antes de resolver um problema, é preciso conhecer os dados. A Análise Exploratória de Dados reúne um conjunto de ferramentas úteis para resumir e visualizar as características de uma base de dados. Deve ser parte fundamental de qualquer projeto. Essas técnicas possibilitam criar uma primeira intuição sobre os dados, o que permite conhecer as suas informações, padrões e lançar hipóteses.\n",
    "\n",
    "\n",
    "* **Objetivos da Análise Explorátoria de Dados**:\n",
    "\n",
    "O objetivo principal da AED é maximizar a percepção do analista sobre um conjunto de dados e sobre a estrutura subjacente de um conjunto de dados. Fornecendo todos os itens específicos que um analista deseja extrair de um conjunto de dados, como:\n",
    "\n",
    "* Obter uma visão geral da distribuição do conjunto de dados.\n",
    "* Verificar se há valores numéricos ausentes, outliers ou outras anomalias no conjunto de dados.\n",
    "* Descobrir padrões e relacionamentos entre variáveis no conjunto de dados."
   ]
  },
  {
   "cell_type": "markdown",
   "metadata": {},
   "source": [
    "# Importando as Bibliotecas"
   ]
  },
  {
   "cell_type": "code",
   "execution_count": 1,
   "metadata": {},
   "outputs": [
    {
     "name": "stderr",
     "output_type": "stream",
     "text": [
      "Registered S3 methods overwritten by 'ggplot2':\n",
      "  method         from \n",
      "  [.quosures     rlang\n",
      "  c.quosures     rlang\n",
      "  print.quosures rlang\n",
      "Registered S3 method overwritten by 'rvest':\n",
      "  method            from\n",
      "  read_xml.response xml2\n",
      "── Attaching packages ─────────────────────────────────────── tidyverse 1.2.1 ──\n",
      "✔ ggplot2 3.1.1       ✔ purrr   0.3.2  \n",
      "✔ tibble  2.1.1       ✔ dplyr   0.8.0.1\n",
      "✔ tidyr   0.8.3       ✔ stringr 1.4.0  \n",
      "✔ readr   1.3.1       ✔ forcats 0.4.0  \n",
      "── Conflicts ────────────────────────────────────────── tidyverse_conflicts() ──\n",
      "✖ dplyr::filter() masks stats::filter()\n",
      "✖ dplyr::lag()    masks stats::lag()\n",
      "\n",
      "Attaching package: ‘gridExtra’\n",
      "\n",
      "The following object is masked from ‘package:dplyr’:\n",
      "\n",
      "    combine\n",
      "\n"
     ]
    }
   ],
   "source": [
    "# Importando bibliotecas\n",
    "library(readxl)\n",
    "library(tidyverse)\n",
    "library(gridExtra)\n",
    "library(moments)"
   ]
  },
  {
   "cell_type": "markdown",
   "metadata": {},
   "source": [
    "# Funções"
   ]
  },
  {
   "cell_type": "code",
   "execution_count": 115,
   "metadata": {},
   "outputs": [],
   "source": [
    "# funcao para gerar tabela de frequencia \n",
    "freq_table <- function(col_df)\n",
    "{\n",
    "    valores <- c()\n",
    "    \n",
    "    total_col <- sum(col_df)\n",
    "    \n",
    "    for (value in col_df)\n",
    "    {\n",
    "       \n",
    "        valor <- (value/total_col)\n",
    "        valores <- append(valores, round(valor,digits = 4))\n",
    "    }\n",
    "  \n",
    "    return(valores)\n",
    "}\n",
    "\n",
    "\n",
    "# funcao para gerar tabela de frequencia\n",
    "freq_table_total <- function(var, tipo)\n",
    "{\n",
    "    ## GERAL\n",
    "    if ((var == \"indigena\") && (tipo == \"geral\"))\n",
    "        {\n",
    "        \n",
    "        # gera tabela com a proporcao\n",
    "        tabela_indigena <- data.frame(freq_table(geral_rural$indigenas))\n",
    "        \n",
    "        # Criando a tabela de frequencia \n",
    "        freq_table_total <- cbind.data.frame(geral_rural$idades, geral_rural$indigenas,\n",
    "                                     tabela_indigena$freq_table.geral_rural.indigenas.,\n",
    "                                     tabela_indigena$freq_table.geral_rural.indigenas.*100 )\n",
    "    \n",
    "        colnames(freq_table_total) <- c(\"Classe\", \"Declararam-se Indigenas (fi)\",\n",
    "                                    \"Frequência (fri)\", \"Porcentagem (100xfri)\")\n",
    "    \n",
    "        # setando coluna class como indice \n",
    "        #rownames(freq_table_total) <- freq_table_total$Classe \n",
    "    \n",
    "        # selecionando colunas \n",
    "        #freq_table_total <- freq_table_total[, c(2,3,4)]\n",
    "    \n",
    "        # calcula total das colunas\n",
    "        #freq_table_total[\"Total\", ] <- colSums(freq_table_total)\n",
    "    \n",
    "        # resetando o index\n",
    "        #freq_table_total <- cbind(Classe = rownames(freq_table_total), freq_table_total)\n",
    "        #rownames(freq_table_total) <- 1:nrow(freq_table_total)\n",
    "        \n",
    "    }\n",
    "    ## HOMEM\n",
    "    else if ((var == \"indigena\") && (tipo == \"homem\")){\n",
    "        \n",
    "        # gera tabela com a proporcao\n",
    "        tabela_indigena <- data.frame(freq_table(homens_rural$indigenas))\n",
    "        \n",
    "        # Criando a tabela de frequencia \n",
    "        freq_table_total <- cbind.data.frame(homens_rural$idades, homens_rural$indigenas,\n",
    "                                     tabela_indigena$freq_table.homens_rural.indigenas.,\n",
    "                                     tabela_indigena$freq_table.homens_rural.indigenas.*100 )\n",
    "    \n",
    "        colnames(freq_table_total) <- c(\"Classe\", \"Declararam-se Indigenas (fi)\",\n",
    "                                    \"Frequência (fri)\", \"Porcentagem (100xfri)\")\n",
    "    \n",
    "        # setando coluna class como indice \n",
    "        #rownames(freq_table_total) <- freq_table_total$Classe \n",
    "    \n",
    "        # selecionando colunas \n",
    "        #freq_table_total <- freq_table_total[, c(2,3,4)]\n",
    "    \n",
    "        # calcula total das colunas\n",
    "        #freq_table_total[\"Total\", ] <- colSums(freq_table_total)\n",
    "    \n",
    "        # resetando o index\n",
    "        #freq_table_total <- cbind(Classe = rownames(freq_table_total), freq_table_total)\n",
    "        #rownames(freq_table_total) <- 1:nrow(freq_table_total)\n",
    "    }\n",
    "    \n",
    "    ## MULHER\n",
    "    else if ((var == \"indigena\") && (tipo == \"mulher\")){\n",
    "        \n",
    "        # gera tabela com a proporcao\n",
    "        tabela_indigena <- data.frame(freq_table(mulheres_rural$indigenas))\n",
    "        \n",
    "        # Criando a tabela de frequencia \n",
    "        freq_table_total <- cbind.data.frame(mulheres_rural$idades, mulheres_rural$indigenas,\n",
    "                                     tabela_indigena$freq_table.mulheres_rural.indigenas.,\n",
    "                                     tabela_indigena$freq_table.mulheres_rural.indigenas.*100 )\n",
    "    \n",
    "        colnames(freq_table_total) <- c(\"Classe\", \"Declararam-se Indigenas (fi)\",\n",
    "                                    \"Frequência (fri)\", \"Porcentagem (100xfri)\")\n",
    "    \n",
    "        # setando coluna class como indice \n",
    "        #rownames(freq_table_total) <- freq_table_total$Classe \n",
    "    \n",
    "        # selecionando colunas \n",
    "        #freq_table_total <- freq_table_total[, c(2,3,4)]\n",
    "    \n",
    "        # calcula total das colunas\n",
    "        #freq_table_total[\"Total\", ] <- colSums(freq_table_total)\n",
    "    \n",
    "        # resetando o index\n",
    "        #freq_table_total <- cbind(Classe = rownames(freq_table_total), freq_table_total)\n",
    "        #rownames(freq_table_total) <- 1:nrow(freq_table_total)\n",
    "    }\n",
    "    ## NI Geral\n",
    "    else if ((var == \"nao_indigena\")  && (tipo == \"geral\")){\n",
    "        \n",
    "        # gera tabela com a proporcao\n",
    "        tabela_nao_indigena <- data.frame(freq_table(geral_rural$não_indigenas))\n",
    "        \n",
    "        # Criando a tabela de frequencia \n",
    "        freq_table_total <- cbind.data.frame(geral_rural$idades, geral_rural$não_indigenas,\n",
    "                                     tabela_nao_indigena$freq_table.geral_rural.não_indigenas.,\n",
    "                                     tabela_nao_indigena$freq_table.geral_rural.não_indigenas.*100 )\n",
    "    \n",
    "        colnames(freq_table_total) <- c(\"Classe\", \"Não se declararam(fi)\",\n",
    "                                    \"Frequência (fri)\", \"Porcentagem (100xfri)\")\n",
    "    \n",
    "        # setando coluna class como indice \n",
    "        #rownames(freq_table_total) <- freq_table_total$Classe \n",
    "    \n",
    "        # selecionando colunas \n",
    "        #freq_table_total <- freq_table_total[, c(2,3,4)]\n",
    "    \n",
    "        # calcula total das colunas\n",
    "        #freq_table_total[\"Total\", ] <- colSums(freq_table_total)\n",
    "    \n",
    "        # resetando o index\n",
    "        #freq_table_total <- cbind(Classe = rownames(freq_table_total), freq_table_total)\n",
    "        #rownames(freq_table_total) <- 1:nrow(freq_table_total)\n",
    "        \n",
    "    }\n",
    "    ## HOMEM NI\n",
    "    else if ((var == \"nao_indigena\") && (tipo == \"homem\")){\n",
    "        \n",
    "        # gera tabela com a proporcao\n",
    "        tabela_nao_indigena <- data.frame(freq_table(homens_rural$não_indigenas))\n",
    "        \n",
    "        # Criando a tabela de frequencia \n",
    "        freq_table_total <- cbind.data.frame(homens_rural$idades, homens_rural$não_indigenas,\n",
    "                                     tabela_nao_indigena$freq_table.homens_rural.não_indigenas.,\n",
    "                                     tabela_nao_indigena$freq_table.homens_rural.não_indigenas.*100 )\n",
    "    \n",
    "        colnames(freq_table_total) <- c(\"Classe\", \"Não se declararam(fi)\",\n",
    "                                    \"Frequência (fri)\", \"Porcentagem (100xfri)\")\n",
    "    \n",
    "        # setando coluna class como indice \n",
    "        #rownames(freq_table_total) <- freq_table_total$Classe \n",
    "    \n",
    "        # selecionando colunas \n",
    "        #freq_table_total <- freq_table_total[, c(2,3,4)]\n",
    "    \n",
    "        # calcula total das colunas\n",
    "        #freq_table_total[\"Total\", ] <- colSums(freq_table_total)\n",
    "    \n",
    "        # resetando o index\n",
    "        #freq_table_total <- cbind(Classe = rownames(freq_table_total), freq_table_total)\n",
    "        #rownames(freq_table_total) <- 1:nrow(freq_table_total)\n",
    "    }\n",
    "    \n",
    "    ## MULHER NI\n",
    "    else if ((var == \"nao_indigena\") && (tipo == \"mulher\")){\n",
    "        \n",
    "        # gera tabela com a proporcao\n",
    "        tabela_nao_indigena <- data.frame(freq_table(mulheres_rural$não_indigenas))\n",
    "        \n",
    "        # Criando a tabela de frequencia \n",
    "        freq_table_total <- cbind.data.frame(mulheres_rural$idades, mulheres_rural$não_indigenas,\n",
    "                                     tabela_nao_indigena$freq_table.mulheres_rural.não_indigenas.,\n",
    "                                     tabela_nao_indigena$freq_table.mulheres_rural.não_indigenas.*100 )\n",
    "    \n",
    "        colnames(freq_table_total) <- c(\"Classe\", \"Não se declararam(fi)\",\n",
    "                                    \"Frequência (fri)\", \"Porcentagem (100xfri)\")\n",
    "    \n",
    "        # setando coluna class como indice \n",
    "        #rownames(freq_table_total) <- freq_table_total$Classe \n",
    "    \n",
    "        # selecionando colunas \n",
    "        #freq_table_total <- freq_table_total[, c(2,3,4)]\n",
    "    \n",
    "        # calcula total das colunas\n",
    "        #freq_table_total[\"Total\", ] <- colSums(freq_table_total)\n",
    "    \n",
    "        # resetando o index\n",
    "        #freq_table_total <- cbind(Classe = rownames(freq_table_total), freq_table_total)\n",
    "        #rownames(freq_table_total) <- 1:nrow(freq_table_total)\n",
    "    }\n",
    "    \n",
    "    ## FORA GERAL\n",
    "    else if ((var == \"fora\") && (tipo == \"geral\")){\n",
    "        \n",
    "        # gera tabela com a proporcao\n",
    "        tabela_fora_territorio <- data.frame(freq_table(geral_rural$fora_de_terras_indigenas))\n",
    "        \n",
    "        # Criando a tabela de frequencia \n",
    "        freq_table_total <- cbind.data.frame(geral_rural$idades, geral_rural$fora_de_terras_indigenas,\n",
    "                                     tabela_fora_territorio$freq_table.geral_rural.fora_de_terras_indigenas.,\n",
    "                                     tabela_fora_territorio$freq_table.geral_rural.fora_de_terras_indigenas.*100 )\n",
    "    \n",
    "        colnames(freq_table_total) <- c(\"Classe\", \"Fora de Terras Indígenas (fi)\",\n",
    "                                    \"Frequência (fri)\", \"Porcentagem (100xfri)\")\n",
    "    \n",
    "        # setando coluna class como indice \n",
    "        #rownames(freq_table_total) <- freq_table_total$Classe \n",
    "    \n",
    "        # selecionando colunas \n",
    "        #freq_table_total <- freq_table_total[, c(2,3,4)]\n",
    "    \n",
    "        # calcula total das colunas\n",
    "        #freq_table_total[\"Total\", ] <- colSums(freq_table_total)\n",
    "    \n",
    "        # resetando o index\n",
    "        #freq_table_total <- cbind(Classe = rownames(freq_table_total), freq_table_total)\n",
    "        #rownames(freq_table_total) <- 1:nrow(freq_table_total)\n",
    "        \n",
    "    }\n",
    "    \n",
    "    ## FORA HOMEM\n",
    "    else if ((var == \"fora\") && (tipo == \"homem\")){\n",
    "        \n",
    "        # gera tabela com a proporcao\n",
    "        tabela_fora_territorio <- data.frame(freq_table(homens_rural$fora_de_terras_indigenas))\n",
    "        \n",
    "        # Criando a tabela de frequencia \n",
    "        freq_table_total <- cbind.data.frame(homens_rural$idades, homens_rural$fora_de_terras_indigenas,\n",
    "                                     tabela_fora_territorio$freq_table.homens_rural.fora_de_terras_indigenas.,\n",
    "                                     tabela_fora_territorio$freq_table.homens_rural.fora_de_terras_indigenas.*100 )\n",
    "    \n",
    "        colnames(freq_table_total) <- c(\"Classe\", \"Fora de Terras Indígenas (fi)\",\n",
    "                                    \"Frequência (fri)\", \"Porcentagem (100xfri)\")\n",
    "    \n",
    "        # setando coluna class como indice \n",
    "        #rownames(freq_table_total) <- freq_table_total$Classe \n",
    "    \n",
    "        # selecionando colunas \n",
    "        #freq_table_total <- freq_table_total[, c(2,3,4)]\n",
    "    \n",
    "        # calcula total das colunas\n",
    "        #freq_table_total[\"Total\", ] <- colSums(freq_table_total)\n",
    "    \n",
    "        # resetando o index\n",
    "        #freq_table_total <- cbind(Classe = rownames(freq_table_total), freq_table_total)\n",
    "        #rownames(freq_table_total) <- 1:nrow(freq_table_total)\n",
    "        \n",
    "    }\n",
    "    \n",
    "    ## FORA MULHER\n",
    "    else if ((var == \"fora\") && (tipo == \"mulher\")){\n",
    "        \n",
    "        # gera tabela com a proporcao\n",
    "        tabela_fora_territorio <- data.frame(freq_table(mulheres_rural$fora_de_terras_indigenas))\n",
    "        \n",
    "        # Criando a tabela de frequencia \n",
    "        freq_table_total <- cbind.data.frame(mulheres_rural$idades, mulheres_rural$fora_de_terras_indigenas,\n",
    "                                     tabela_fora_territorio$freq_table.mulheres_rural.fora_de_terras_indigenas.,\n",
    "                                     tabela_fora_territorio$freq_table.mulheres_rural.fora_de_terras_indigenas.*100 )\n",
    "    \n",
    "        colnames(freq_table_total) <- c(\"Classe\", \"Fora de Terras Indígenas (fi)\",\n",
    "                                    \"Frequência (fri)\", \"Porcentagem (100xfri)\")\n",
    "    \n",
    "        # setando coluna class como indice \n",
    "        #rownames(freq_table_total) <- freq_table_total$Classe \n",
    "    \n",
    "        # selecionando colunas \n",
    "        #freq_table_total <- freq_table_total[, c(2,3,4)]\n",
    "    \n",
    "        # calcula total das colunas\n",
    "        #freq_table_total[\"Total\", ] <- colSums(freq_table_total)\n",
    "    \n",
    "        # resetando o index\n",
    "        #freq_table_total <- cbind(Classe = rownames(freq_table_total), freq_table_total)\n",
    "        #rownames(freq_table_total) <- 1:nrow(freq_table_total)\n",
    "        \n",
    "    }\n",
    "    \n",
    "    \n",
    "    return(freq_table_total)\n",
    "    \n",
    "    \n",
    "}\n",
    "\n",
    "resumo_estatistico <- function(x){\n",
    "    media <- round(mean(x))\n",
    "    desvio_padrao <- round(sd(x))\n",
    "    q1 <- quantile(x, probs = 0.25)\n",
    "    q3 <- quantile(x, probs = 0.75)\n",
    "    lim_inferior <- q1 - (1.5*(q3-q1))\n",
    "    lim_superior <- q3 + (1.5*(q3-q1))\n",
    "    assimetria <- skewness(x)\n",
    "    curtose <- kurtosis(x)\n",
    "    \n",
    "    \n",
    "    resumo_estatistico <- data.frame(media, desvio_padrao, q1, q3, lim_inferior, lim_superior, assimetria, curtose)\n",
    "    \n",
    "    return(resumo_estatistico)\n",
    "}\n"
   ]
  },
  {
   "cell_type": "markdown",
   "metadata": {},
   "source": [
    "# Importando o Conjunto de Dados"
   ]
  },
  {
   "cell_type": "code",
   "execution_count": 3,
   "metadata": {},
   "outputs": [],
   "source": [
    "# importando conjunto de dados\n",
    "df_editado <- read_xls(path = \"/home/danilo/Estatistica-UFG/Primeiro-Periodo/Estatistica.I/geral_rural_editado.xls\")"
   ]
  },
  {
   "cell_type": "markdown",
   "metadata": {},
   "source": [
    "Vamos dividir o conjunto de dados em três para facilitar nossas análises. Um vai conter os valores totais referentes ao sexo masculino e feminino e os outros dois irao representar os valores para o sexo masculino e o outro para o sexo feminino."
   ]
  },
  {
   "cell_type": "code",
   "execution_count": 4,
   "metadata": {},
   "outputs": [],
   "source": [
    "# Separando os conjunto de dados\n",
    "\n",
    "# Total\n",
    "geral_rural <- df_editado[-c(17:48), c(1,4,5,6)]\n",
    "\n",
    "# Homens\n",
    "homens_rural <- df_editado[c(17:32), c(1,4,5,6)]\n",
    "\n",
    "# Mulheres\n",
    "mulheres_rural <- df_editado[c(33:48), c(1,4,5,6)]"
   ]
  },
  {
   "cell_type": "markdown",
   "metadata": {},
   "source": [
    "# Analisando Conjunto de dados Total Rural"
   ]
  },
  {
   "cell_type": "markdown",
   "metadata": {},
   "source": [
    "## Tamanho do conjunto de dados\n",
    "A primeira coisa que faremos após importar o dataset será examinar as dimensões do DataFrame e as primeiras entradas. Isso possibilitará criar uma consciência situacional inicial a respeito do formato de entrada e da estrutura geral dos dados.\n",
    "\n",
    "Em relação à dimensionalidade dos dados, nosso dataset é composto por 16 entradas e 4 colunas."
   ]
  },
  {
   "cell_type": "code",
   "execution_count": 5,
   "metadata": {},
   "outputs": [
    {
     "data": {
      "text/html": [
       "<ol class=list-inline>\n",
       "\t<li>16</li>\n",
       "\t<li>4</li>\n",
       "</ol>\n"
      ],
      "text/latex": [
       "\\begin{enumerate*}\n",
       "\\item 16\n",
       "\\item 4\n",
       "\\end{enumerate*}\n"
      ],
      "text/markdown": [
       "1. 16\n",
       "2. 4\n",
       "\n",
       "\n"
      ],
      "text/plain": [
       "[1] 16  4"
      ]
     },
     "metadata": {},
     "output_type": "display_data"
    }
   ],
   "source": [
    "# Dimensao do conjunto de dados\n",
    "dim(geral_rural)"
   ]
  },
  {
   "cell_type": "markdown",
   "metadata": {},
   "source": [
    "## Visualização do conjunto de dados¶\n",
    "Visualizar as 5 entradas desse conjunto de dados nos permitem adquirirmos uma noção inicial sobre o tipo de formato, exemplos de entrada e formulação das hipóteses iniciais do processo investigativo."
   ]
  },
  {
   "cell_type": "code",
   "execution_count": 6,
   "metadata": {},
   "outputs": [
    {
     "data": {
      "text/html": [
       "<table>\n",
       "<thead><tr><th scope=col>idades</th><th scope=col>indigenas</th><th scope=col>não_indigenas</th><th scope=col>fora_de_terras_indigenas</th></tr></thead>\n",
       "<tbody>\n",
       "\t<tr><td>Menos de 1 ano</td><td>14289         </td><td>1518          </td><td> 1867         </td></tr>\n",
       "\t<tr><td>1 a  4 anos   </td><td>57138         </td><td>6756          </td><td> 8134         </td></tr>\n",
       "\t<tr><td>5 a  9 anos   </td><td>67039         </td><td>8370          </td><td>10090         </td></tr>\n",
       "\t<tr><td>10 a 14 anos  </td><td>57940         </td><td>8454          </td><td> 9789         </td></tr>\n",
       "\t<tr><td>15 a 19 anos  </td><td>45961         </td><td>6675          </td><td> 8423         </td></tr>\n",
       "\t<tr><td>20 a 24 anos  </td><td>37625         </td><td>6264          </td><td> 7119         </td></tr>\n",
       "</tbody>\n",
       "</table>\n"
      ],
      "text/latex": [
       "\\begin{tabular}{r|llll}\n",
       " idades & indigenas & não\\_indigenas & fora\\_de\\_terras\\_indigenas\\\\\n",
       "\\hline\n",
       "\t Menos de 1 ano & 14289          & 1518           &  1867         \\\\\n",
       "\t 1 a  4 anos    & 57138          & 6756           &  8134         \\\\\n",
       "\t 5 a  9 anos    & 67039          & 8370           & 10090         \\\\\n",
       "\t 10 a 14 anos   & 57940          & 8454           &  9789         \\\\\n",
       "\t 15 a 19 anos   & 45961          & 6675           &  8423         \\\\\n",
       "\t 20 a 24 anos   & 37625          & 6264           &  7119         \\\\\n",
       "\\end{tabular}\n"
      ],
      "text/markdown": [
       "\n",
       "| idades | indigenas | não_indigenas | fora_de_terras_indigenas |\n",
       "|---|---|---|---|\n",
       "| Menos de 1 ano | 14289          | 1518           |  1867          |\n",
       "| 1 a  4 anos    | 57138          | 6756           |  8134          |\n",
       "| 5 a  9 anos    | 67039          | 8370           | 10090          |\n",
       "| 10 a 14 anos   | 57940          | 8454           |  9789          |\n",
       "| 15 a 19 anos   | 45961          | 6675           |  8423          |\n",
       "| 20 a 24 anos   | 37625          | 6264           |  7119          |\n",
       "\n"
      ],
      "text/plain": [
       "  idades         indigenas não_indigenas fora_de_terras_indigenas\n",
       "1 Menos de 1 ano 14289     1518           1867                   \n",
       "2 1 a  4 anos    57138     6756           8134                   \n",
       "3 5 a  9 anos    67039     8370          10090                   \n",
       "4 10 a 14 anos   57940     8454           9789                   \n",
       "5 15 a 19 anos   45961     6675           8423                   \n",
       "6 20 a 24 anos   37625     6264           7119                   "
      ]
     },
     "metadata": {},
     "output_type": "display_data"
    }
   ],
   "source": [
    "# visualizando o conjunto de dados\n",
    "head(geral_rural)\n"
   ]
  },
  {
   "cell_type": "markdown",
   "metadata": {},
   "source": [
    "**Dicionario das variáveis**:\n",
    "* **idades** : Intervalo que compreende as idades\n",
    "* **indigenas** : Compreende as pessoas que se declararam indígenas e moram em terras indígenas\n",
    "* **não_indigena** : Compreende as pessoas que não se declaram indigenas, mas se consideram indigenas em terras indígenas\n",
    "* **fora_de_terras_indigenas** : Pessoas consideradas indigenas, mas que moram fora de terras indígenas"
   ]
  },
  {
   "cell_type": "markdown",
   "metadata": {},
   "source": [
    "## Tipo das Variaveis\n",
    "Vamos realizar o levantamento dos tipos de variáveis que compõem o conjunto de dados a fim de estabelecer a divisão entre as variáveis numéricas e as variáveis categóricas."
   ]
  },
  {
   "cell_type": "code",
   "execution_count": 7,
   "metadata": {},
   "outputs": [
    {
     "data": {
      "text/html": [
       "<dl class=dl-horizontal>\n",
       "\t<dt>idades</dt>\n",
       "\t\t<dd>'character'</dd>\n",
       "\t<dt>indigenas</dt>\n",
       "\t\t<dd>'numeric'</dd>\n",
       "\t<dt>não_indigenas</dt>\n",
       "\t\t<dd>'numeric'</dd>\n",
       "\t<dt>fora_de_terras_indigenas</dt>\n",
       "\t\t<dd>'numeric'</dd>\n",
       "</dl>\n"
      ],
      "text/latex": [
       "\\begin{description*}\n",
       "\\item[idades] 'character'\n",
       "\\item[indigenas] 'numeric'\n",
       "\\item[não\\textbackslash{}\\_indigenas] 'numeric'\n",
       "\\item[fora\\textbackslash{}\\_de\\textbackslash{}\\_terras\\textbackslash{}\\_indigenas] 'numeric'\n",
       "\\end{description*}\n"
      ],
      "text/markdown": [
       "idades\n",
       ":   'character'indigenas\n",
       ":   'numeric'não_indigenas\n",
       ":   'numeric'fora_de_terras_indigenas\n",
       ":   'numeric'\n",
       "\n"
      ],
      "text/plain": [
       "                  idades                indigenas            não_indigenas \n",
       "             \"character\"                \"numeric\"                \"numeric\" \n",
       "fora_de_terras_indigenas \n",
       "               \"numeric\" "
      ]
     },
     "metadata": {},
     "output_type": "display_data"
    }
   ],
   "source": [
    "# listando os tipos dos dados para cada atributo\n",
    "sapply(geral_rural, class)"
   ]
  },
  {
   "cell_type": "markdown",
   "metadata": {},
   "source": [
    "Nosso conjunto de dados apresenta majotariamente variaveis numericas `['declararam-se_indígenas','nao_se_declararam', 'fora_de_terras_indígenas']` sendo todas elas to tipo discreto e uma variavel categorica ordinal `['idades']`."
   ]
  },
  {
   "cell_type": "markdown",
   "metadata": {},
   "source": [
    "## Tabelas de Frequência "
   ]
  },
  {
   "cell_type": "code",
   "execution_count": 8,
   "metadata": {},
   "outputs": [],
   "source": [
    "geral_rural_ind_freq_table <- freq_table_total(var = \"indigena\", tipo = \"geral\")\n",
    "geral_rural_nind_freq_table <- freq_table_total(var = \"nao_indigena\", tipo =\"geral\")\n",
    "geral_rural_fora_freq_table <- freq_table_total(var = \"fora\", tipo =\"geral\")"
   ]
  },
  {
   "cell_type": "markdown",
   "metadata": {},
   "source": [
    "## Estatística Descritiva ( Media, Mediana , Moda, Desvio Padrao, Assimetria, Curtose)\n",
    "Como o nome sugere, ajudam a descrever e compreender os conjuntos de dados, apresentando-os de uma maneira mais siginificativa o que permite uma interpretação mais simples dos dados. Os tipos mais comuns de estatistica descritiva incluem as medidas de tendencias centrais e de dispensão.\n",
    "\n",
    "* Medidas de Tendência Central\n",
    "Representam o ponto central ou valor típico de um conjunto de dados. Estas medidas indicam onde cai a maioria dos valores de uma distribuição e são também referidas como a localização central de uma distribuição. As três medidas mais comuns de tendencia central são: `média`, a `mediana` e a `moda`. cada uma delas calcula a localização do ponto central utilizando um método diferente.\n",
    "\n",
    "\n",
    "* Medidas de dispersão\n",
    "Representam a quantidade de dispersão num conjunto de dados. Enquanto uma medida de tendência central descreve o valor típico, as medidas de variabilidade definem a distância a que os pontos de dados tendem a cair do centro. Uma baixa dispersão indica que os pontos de dados tendem a ser agrupados fortemente em torno do centro. Uma dispersão elevada significa que eles tendem a cair mais longe. As medidas mais comuns de variabilidade são: `amplitude total`, `amplitute interquartil`, `variância`, `desvio-padrão`, `assimetria` e `curtose`."
   ]
  },
  {
   "cell_type": "markdown",
   "metadata": {},
   "source": [
    "### Analise Univariada "
   ]
  },
  {
   "cell_type": "markdown",
   "metadata": {},
   "source": [
    "#### Variável `Indigena`"
   ]
  },
  {
   "cell_type": "code",
   "execution_count": 106,
   "metadata": {},
   "outputs": [
    {
     "data": {
      "text/html": [
       "<table>\n",
       "<thead><tr><th scope=col>Classe</th><th scope=col>Declararam-se Indigenas (fi)</th><th scope=col>Frequência (fri)</th><th scope=col>Porcentagem (100xfri)</th></tr></thead>\n",
       "<tbody>\n",
       "\t<tr><td>Menos de 1 ano </td><td>14289          </td><td>0,0339         </td><td> 3,39          </td></tr>\n",
       "\t<tr><td>1 a  4 anos    </td><td>57138          </td><td>0,1354         </td><td>13,54          </td></tr>\n",
       "\t<tr><td>5 a  9 anos    </td><td>67039          </td><td>0,1588         </td><td>15,88          </td></tr>\n",
       "\t<tr><td>10 a 14 anos   </td><td>57940          </td><td>0,1373         </td><td>13,73          </td></tr>\n",
       "\t<tr><td>15 a 19 anos   </td><td>45961          </td><td>0,1089         </td><td>10,89          </td></tr>\n",
       "\t<tr><td>20 a 24 anos   </td><td>37625          </td><td>0,0891         </td><td> 8,91          </td></tr>\n",
       "\t<tr><td>25 a 29 anos   </td><td>31127          </td><td>0,0737         </td><td> 7,37          </td></tr>\n",
       "\t<tr><td>30 a 34 anos   </td><td>24879          </td><td>0,0589         </td><td> 5,89          </td></tr>\n",
       "\t<tr><td>35 a 39 anos   </td><td>19752          </td><td>0,0468         </td><td> 4,68          </td></tr>\n",
       "\t<tr><td>40 a 44 anos   </td><td>15073          </td><td>0,0357         </td><td> 3,57          </td></tr>\n",
       "\t<tr><td>45 a 49 anos   </td><td>11847          </td><td>0,0281         </td><td> 2,81          </td></tr>\n",
       "\t<tr><td>50 a 54 anos   </td><td> 8764          </td><td>0,0208         </td><td> 2,08          </td></tr>\n",
       "\t<tr><td>55 a 59 anos   </td><td> 7342          </td><td>0,0174         </td><td> 1,74          </td></tr>\n",
       "\t<tr><td>60 a 64 anos   </td><td> 6428          </td><td>0,0152         </td><td> 1,52          </td></tr>\n",
       "\t<tr><td>65 a 69 anos   </td><td> 5714          </td><td>0,0135         </td><td> 1,35          </td></tr>\n",
       "\t<tr><td>70 anos ou mais</td><td>11190          </td><td>0,0265         </td><td> 2,65          </td></tr>\n",
       "</tbody>\n",
       "</table>\n"
      ],
      "text/latex": [
       "\\begin{tabular}{r|llll}\n",
       " Classe & Declararam-se Indigenas (fi) & Frequência (fri) & Porcentagem (100xfri)\\\\\n",
       "\\hline\n",
       "\t Menos de 1 ano  & 14289           & 0,0339          &  3,39          \\\\\n",
       "\t 1 a  4 anos     & 57138           & 0,1354          & 13,54          \\\\\n",
       "\t 5 a  9 anos     & 67039           & 0,1588          & 15,88          \\\\\n",
       "\t 10 a 14 anos    & 57940           & 0,1373          & 13,73          \\\\\n",
       "\t 15 a 19 anos    & 45961           & 0,1089          & 10,89          \\\\\n",
       "\t 20 a 24 anos    & 37625           & 0,0891          &  8,91          \\\\\n",
       "\t 25 a 29 anos    & 31127           & 0,0737          &  7,37          \\\\\n",
       "\t 30 a 34 anos    & 24879           & 0,0589          &  5,89          \\\\\n",
       "\t 35 a 39 anos    & 19752           & 0,0468          &  4,68          \\\\\n",
       "\t 40 a 44 anos    & 15073           & 0,0357          &  3,57          \\\\\n",
       "\t 45 a 49 anos    & 11847           & 0,0281          &  2,81          \\\\\n",
       "\t 50 a 54 anos    &  8764           & 0,0208          &  2,08          \\\\\n",
       "\t 55 a 59 anos    &  7342           & 0,0174          &  1,74          \\\\\n",
       "\t 60 a 64 anos    &  6428           & 0,0152          &  1,52          \\\\\n",
       "\t 65 a 69 anos    &  5714           & 0,0135          &  1,35          \\\\\n",
       "\t 70 anos ou mais & 11190           & 0,0265          &  2,65          \\\\\n",
       "\\end{tabular}\n"
      ],
      "text/markdown": [
       "\n",
       "| Classe | Declararam-se Indigenas (fi) | Frequência (fri) | Porcentagem (100xfri) |\n",
       "|---|---|---|---|\n",
       "| Menos de 1 ano  | 14289           | 0,0339          |  3,39           |\n",
       "| 1 a  4 anos     | 57138           | 0,1354          | 13,54           |\n",
       "| 5 a  9 anos     | 67039           | 0,1588          | 15,88           |\n",
       "| 10 a 14 anos    | 57940           | 0,1373          | 13,73           |\n",
       "| 15 a 19 anos    | 45961           | 0,1089          | 10,89           |\n",
       "| 20 a 24 anos    | 37625           | 0,0891          |  8,91           |\n",
       "| 25 a 29 anos    | 31127           | 0,0737          |  7,37           |\n",
       "| 30 a 34 anos    | 24879           | 0,0589          |  5,89           |\n",
       "| 35 a 39 anos    | 19752           | 0,0468          |  4,68           |\n",
       "| 40 a 44 anos    | 15073           | 0,0357          |  3,57           |\n",
       "| 45 a 49 anos    | 11847           | 0,0281          |  2,81           |\n",
       "| 50 a 54 anos    |  8764           | 0,0208          |  2,08           |\n",
       "| 55 a 59 anos    |  7342           | 0,0174          |  1,74           |\n",
       "| 60 a 64 anos    |  6428           | 0,0152          |  1,52           |\n",
       "| 65 a 69 anos    |  5714           | 0,0135          |  1,35           |\n",
       "| 70 anos ou mais | 11190           | 0,0265          |  2,65           |\n",
       "\n"
      ],
      "text/plain": [
       "   Classe          Declararam-se Indigenas (fi) Frequência (fri)\n",
       "1  Menos de 1 ano  14289                        0,0339          \n",
       "2  1 a  4 anos     57138                        0,1354          \n",
       "3  5 a  9 anos     67039                        0,1588          \n",
       "4  10 a 14 anos    57940                        0,1373          \n",
       "5  15 a 19 anos    45961                        0,1089          \n",
       "6  20 a 24 anos    37625                        0,0891          \n",
       "7  25 a 29 anos    31127                        0,0737          \n",
       "8  30 a 34 anos    24879                        0,0589          \n",
       "9  35 a 39 anos    19752                        0,0468          \n",
       "10 40 a 44 anos    15073                        0,0357          \n",
       "11 45 a 49 anos    11847                        0,0281          \n",
       "12 50 a 54 anos     8764                        0,0208          \n",
       "13 55 a 59 anos     7342                        0,0174          \n",
       "14 60 a 64 anos     6428                        0,0152          \n",
       "15 65 a 69 anos     5714                        0,0135          \n",
       "16 70 anos ou mais 11190                        0,0265          \n",
       "   Porcentagem (100xfri)\n",
       "1   3,39                \n",
       "2  13,54                \n",
       "3  15,88                \n",
       "4  13,73                \n",
       "5  10,89                \n",
       "6   8,91                \n",
       "7   7,37                \n",
       "8   5,89                \n",
       "9   4,68                \n",
       "10  3,57                \n",
       "11  2,81                \n",
       "12  2,08                \n",
       "13  1,74                \n",
       "14  1,52                \n",
       "15  1,35                \n",
       "16  2,65                "
      ]
     },
     "metadata": {},
     "output_type": "display_data"
    }
   ],
   "source": [
    "geral_rural_ind_freq_table"
   ]
  },
  {
   "cell_type": "code",
   "execution_count": 116,
   "metadata": {},
   "outputs": [
    {
     "data": {
      "text/html": [
       "<table>\n",
       "<thead><tr><th></th><th scope=col>media</th><th scope=col>desvio_padrao</th><th scope=col>q1</th><th scope=col>q3</th><th scope=col>lim_inferior</th><th scope=col>lim_superior</th><th scope=col>assimetria</th><th scope=col>curtose</th></tr></thead>\n",
       "<tbody>\n",
       "\t<tr><th scope=row>25%</th><td>26382    </td><td>20636    </td><td>10583,5  </td><td>39709    </td><td>-33104,75</td><td>83397,25 </td><td>0,7641825</td><td>2,152329 </td></tr>\n",
       "</tbody>\n",
       "</table>\n"
      ],
      "text/latex": [
       "\\begin{tabular}{r|llllllll}\n",
       "  & media & desvio\\_padrao & q1 & q3 & lim\\_inferior & lim\\_superior & assimetria & curtose\\\\\n",
       "\\hline\n",
       "\t25\\% & 26382     & 20636     & 10583,5   & 39709     & -33104,75 & 83397,25  & 0,7641825 & 2,152329 \\\\\n",
       "\\end{tabular}\n"
      ],
      "text/markdown": [
       "\n",
       "| <!--/--> | media | desvio_padrao | q1 | q3 | lim_inferior | lim_superior | assimetria | curtose |\n",
       "|---|---|---|---|---|---|---|---|---|\n",
       "| 25% | 26382     | 20636     | 10583,5   | 39709     | -33104,75 | 83397,25  | 0,7641825 | 2,152329  |\n",
       "\n"
      ],
      "text/plain": [
       "    media desvio_padrao q1      q3    lim_inferior lim_superior assimetria\n",
       "25% 26382 20636         10583,5 39709 -33104,75    83397,25     0,7641825 \n",
       "    curtose \n",
       "25% 2,152329"
      ]
     },
     "metadata": {},
     "output_type": "display_data"
    }
   ],
   "source": [
    "resumo_estatistico(geral_rural_ind_freq_table$`Declararam-se Indigenas (fi)`)"
   ]
  },
  {
   "cell_type": "markdown",
   "metadata": {},
   "source": [
    "Interpretação:\n",
    "* Em territorio indígena temos em média `26382` pessoas que se declaram indígenas com um desvio padrão de `20636`. O grupo de idades com a maior quantidade de pessoas é de 5 a 9 anos seguido pelo de 10 a 14 anos. Outra observação que podemos levantar e que explica esse valor alto do desvio padrão é que a medida que o grupo de idades vai aumentando o número de pessoas vai diminuindo. Ou seja, a grande maioria das pessoas que estão em terriorio indígenas são bastante jovens.\n",
    "* Não temos valores discrepantes umas vez que nosso conjunto de dados não excede os limites inferior (`-33104.75`) e superior (`83397.25`)\n",
    "* O conjunto de dados apresentou uma assimetria positiva (`0.76`) e uma curtose de (`2.15`) que indica uma curva platicúrtica  "
   ]
  },
  {
   "cell_type": "markdown",
   "metadata": {},
   "source": [
    "#### Variável `nao indigena`"
   ]
  },
  {
   "cell_type": "code",
   "execution_count": 109,
   "metadata": {},
   "outputs": [
    {
     "data": {
      "text/html": [
       "<table>\n",
       "<thead><tr><th scope=col>Classe</th><th scope=col>Não se declararam(fi)</th><th scope=col>Frequência (fri)</th><th scope=col>Porcentagem (100xfri)</th></tr></thead>\n",
       "<tbody>\n",
       "\t<tr><td>Menos de 1 ano </td><td>1518           </td><td>0,0219         </td><td> 2,19          </td></tr>\n",
       "\t<tr><td>1 a  4 anos    </td><td>6756           </td><td>0,0975         </td><td> 9,75          </td></tr>\n",
       "\t<tr><td>5 a  9 anos    </td><td>8370           </td><td>0,1208         </td><td>12,08          </td></tr>\n",
       "\t<tr><td>10 a 14 anos   </td><td>8454           </td><td>0,1220         </td><td>12,20          </td></tr>\n",
       "\t<tr><td>15 a 19 anos   </td><td>6675           </td><td>0,0963         </td><td> 9,63          </td></tr>\n",
       "\t<tr><td>20 a 24 anos   </td><td>6264           </td><td>0,0904         </td><td> 9,04          </td></tr>\n",
       "\t<tr><td>25 a 29 anos   </td><td>6082           </td><td>0,0877         </td><td> 8,77          </td></tr>\n",
       "\t<tr><td>30 a 34 anos   </td><td>5343           </td><td>0,0771         </td><td> 7,71          </td></tr>\n",
       "\t<tr><td>35 a 39 anos   </td><td>4282           </td><td>0,0618         </td><td> 6,18          </td></tr>\n",
       "\t<tr><td>40 a 44 anos   </td><td>3890           </td><td>0,0561         </td><td> 5,61          </td></tr>\n",
       "\t<tr><td>45 a 49 anos   </td><td>3097           </td><td>0,0447         </td><td> 4,47          </td></tr>\n",
       "\t<tr><td>50 a 54 anos   </td><td>2449           </td><td>0,0353         </td><td> 3,53          </td></tr>\n",
       "\t<tr><td>55 a 59 anos   </td><td>1920           </td><td>0,0277         </td><td> 2,77          </td></tr>\n",
       "\t<tr><td>60 a 64 anos   </td><td>1458           </td><td>0,0210         </td><td> 2,10          </td></tr>\n",
       "\t<tr><td>65 a 69 anos   </td><td>1085           </td><td>0,0157         </td><td> 1,57          </td></tr>\n",
       "\t<tr><td>70 anos ou mais</td><td>1669           </td><td>0,0241         </td><td> 2,41          </td></tr>\n",
       "</tbody>\n",
       "</table>\n"
      ],
      "text/latex": [
       "\\begin{tabular}{r|llll}\n",
       " Classe & Não se declararam(fi) & Frequência (fri) & Porcentagem (100xfri)\\\\\n",
       "\\hline\n",
       "\t Menos de 1 ano  & 1518            & 0,0219          &  2,19          \\\\\n",
       "\t 1 a  4 anos     & 6756            & 0,0975          &  9,75          \\\\\n",
       "\t 5 a  9 anos     & 8370            & 0,1208          & 12,08          \\\\\n",
       "\t 10 a 14 anos    & 8454            & 0,1220          & 12,20          \\\\\n",
       "\t 15 a 19 anos    & 6675            & 0,0963          &  9,63          \\\\\n",
       "\t 20 a 24 anos    & 6264            & 0,0904          &  9,04          \\\\\n",
       "\t 25 a 29 anos    & 6082            & 0,0877          &  8,77          \\\\\n",
       "\t 30 a 34 anos    & 5343            & 0,0771          &  7,71          \\\\\n",
       "\t 35 a 39 anos    & 4282            & 0,0618          &  6,18          \\\\\n",
       "\t 40 a 44 anos    & 3890            & 0,0561          &  5,61          \\\\\n",
       "\t 45 a 49 anos    & 3097            & 0,0447          &  4,47          \\\\\n",
       "\t 50 a 54 anos    & 2449            & 0,0353          &  3,53          \\\\\n",
       "\t 55 a 59 anos    & 1920            & 0,0277          &  2,77          \\\\\n",
       "\t 60 a 64 anos    & 1458            & 0,0210          &  2,10          \\\\\n",
       "\t 65 a 69 anos    & 1085            & 0,0157          &  1,57          \\\\\n",
       "\t 70 anos ou mais & 1669            & 0,0241          &  2,41          \\\\\n",
       "\\end{tabular}\n"
      ],
      "text/markdown": [
       "\n",
       "| Classe | Não se declararam(fi) | Frequência (fri) | Porcentagem (100xfri) |\n",
       "|---|---|---|---|\n",
       "| Menos de 1 ano  | 1518            | 0,0219          |  2,19           |\n",
       "| 1 a  4 anos     | 6756            | 0,0975          |  9,75           |\n",
       "| 5 a  9 anos     | 8370            | 0,1208          | 12,08           |\n",
       "| 10 a 14 anos    | 8454            | 0,1220          | 12,20           |\n",
       "| 15 a 19 anos    | 6675            | 0,0963          |  9,63           |\n",
       "| 20 a 24 anos    | 6264            | 0,0904          |  9,04           |\n",
       "| 25 a 29 anos    | 6082            | 0,0877          |  8,77           |\n",
       "| 30 a 34 anos    | 5343            | 0,0771          |  7,71           |\n",
       "| 35 a 39 anos    | 4282            | 0,0618          |  6,18           |\n",
       "| 40 a 44 anos    | 3890            | 0,0561          |  5,61           |\n",
       "| 45 a 49 anos    | 3097            | 0,0447          |  4,47           |\n",
       "| 50 a 54 anos    | 2449            | 0,0353          |  3,53           |\n",
       "| 55 a 59 anos    | 1920            | 0,0277          |  2,77           |\n",
       "| 60 a 64 anos    | 1458            | 0,0210          |  2,10           |\n",
       "| 65 a 69 anos    | 1085            | 0,0157          |  1,57           |\n",
       "| 70 anos ou mais | 1669            | 0,0241          |  2,41           |\n",
       "\n"
      ],
      "text/plain": [
       "   Classe          Não se declararam(fi) Frequência (fri) Porcentagem (100xfri)\n",
       "1  Menos de 1 ano  1518                  0,0219            2,19                \n",
       "2  1 a  4 anos     6756                  0,0975            9,75                \n",
       "3  5 a  9 anos     8370                  0,1208           12,08                \n",
       "4  10 a 14 anos    8454                  0,1220           12,20                \n",
       "5  15 a 19 anos    6675                  0,0963            9,63                \n",
       "6  20 a 24 anos    6264                  0,0904            9,04                \n",
       "7  25 a 29 anos    6082                  0,0877            8,77                \n",
       "8  30 a 34 anos    5343                  0,0771            7,71                \n",
       "9  35 a 39 anos    4282                  0,0618            6,18                \n",
       "10 40 a 44 anos    3890                  0,0561            5,61                \n",
       "11 45 a 49 anos    3097                  0,0447            4,47                \n",
       "12 50 a 54 anos    2449                  0,0353            3,53                \n",
       "13 55 a 59 anos    1920                  0,0277            2,77                \n",
       "14 60 a 64 anos    1458                  0,0210            2,10                \n",
       "15 65 a 69 anos    1085                  0,0157            1,57                \n",
       "16 70 anos ou mais 1669                  0,0241            2,41                "
      ]
     },
     "metadata": {},
     "output_type": "display_data"
    }
   ],
   "source": [
    "geral_rural_nind_freq_table"
   ]
  },
  {
   "cell_type": "code",
   "execution_count": 117,
   "metadata": {},
   "outputs": [
    {
     "data": {
      "text/html": [
       "<table>\n",
       "<thead><tr><th></th><th scope=col>media</th><th scope=col>desvio_padrao</th><th scope=col>q1</th><th scope=col>q3</th><th scope=col>lim_inferior</th><th scope=col>lim_superior</th><th scope=col>assimetria</th><th scope=col>curtose</th></tr></thead>\n",
       "<tbody>\n",
       "\t<tr><th scope=row>25%</th><td>4332     </td><td>2548     </td><td>1857,25  </td><td>6366,75  </td><td>-4907    </td><td>13131    </td><td>0,2279784</td><td>1,661542 </td></tr>\n",
       "</tbody>\n",
       "</table>\n"
      ],
      "text/latex": [
       "\\begin{tabular}{r|llllllll}\n",
       "  & media & desvio\\_padrao & q1 & q3 & lim\\_inferior & lim\\_superior & assimetria & curtose\\\\\n",
       "\\hline\n",
       "\t25\\% & 4332      & 2548      & 1857,25   & 6366,75   & -4907     & 13131     & 0,2279784 & 1,661542 \\\\\n",
       "\\end{tabular}\n"
      ],
      "text/markdown": [
       "\n",
       "| <!--/--> | media | desvio_padrao | q1 | q3 | lim_inferior | lim_superior | assimetria | curtose |\n",
       "|---|---|---|---|---|---|---|---|---|\n",
       "| 25% | 4332      | 2548      | 1857,25   | 6366,75   | -4907     | 13131     | 0,2279784 | 1,661542  |\n",
       "\n"
      ],
      "text/plain": [
       "    media desvio_padrao q1      q3      lim_inferior lim_superior assimetria\n",
       "25% 4332  2548          1857,25 6366,75 -4907        13131        0,2279784 \n",
       "    curtose \n",
       "25% 1,661542"
      ]
     },
     "metadata": {},
     "output_type": "display_data"
    }
   ],
   "source": [
    "resumo_estatistico(geral_rural_nind_freq_table$`Não se declararam(fi)`)"
   ]
  },
  {
   "cell_type": "markdown",
   "metadata": {},
   "source": [
    "Interpretação:\n",
    "* Em territorio indigenas a média de pessoas que não se declaram indígenas foi de `4332` com devio padrão de `2548`. Aqui temos pouca variação se comparamos as pessoas que se declaram indígenas. Entretanto, o padrão se repete, ou seja, a medida que as o grupo de idade aumenta o número de pessoas vai diminuindo.\n",
    "* Não temos valores discrepantes umas vez que nosso conjunto de dados não excede os limites inferior (`-4907`) e superior (`13131`)\n",
    "* O conjunto de dados apresentou uma assimetria positiva (`0.22`) e uma curtose de (`1.66`) que indica uma curva platicúrtica  "
   ]
  },
  {
   "cell_type": "markdown",
   "metadata": {},
   "source": [
    "#### Variável `fora de terras indigenas`"
   ]
  },
  {
   "cell_type": "code",
   "execution_count": 110,
   "metadata": {},
   "outputs": [
    {
     "data": {
      "text/html": [
       "<table>\n",
       "<thead><tr><th scope=col>Classe</th><th scope=col>Fora de Terras Indígenas (fi)</th><th scope=col>Frequência (fri)</th><th scope=col>Porcentagem (100xfri)</th></tr></thead>\n",
       "<tbody>\n",
       "\t<tr><td>Menos de 1 ano </td><td> 1867          </td><td>0,0231         </td><td> 2,31          </td></tr>\n",
       "\t<tr><td>1 a  4 anos    </td><td> 8134          </td><td>0,1008         </td><td>10,08          </td></tr>\n",
       "\t<tr><td>5 a  9 anos    </td><td>10090          </td><td>0,1251         </td><td>12,51          </td></tr>\n",
       "\t<tr><td>10 a 14 anos   </td><td> 9789          </td><td>0,1214         </td><td>12,14          </td></tr>\n",
       "\t<tr><td>15 a 19 anos   </td><td> 8423          </td><td>0,1044         </td><td>10,44          </td></tr>\n",
       "\t<tr><td>20 a 24 anos   </td><td> 7119          </td><td>0,0883         </td><td> 8,83          </td></tr>\n",
       "\t<tr><td>25 a 29 anos   </td><td> 6059          </td><td>0,0751         </td><td> 7,51          </td></tr>\n",
       "\t<tr><td>30 a 34 anos   </td><td> 5282          </td><td>0,0655         </td><td> 6,55          </td></tr>\n",
       "\t<tr><td>35 a 39 anos   </td><td> 4380          </td><td>0,0543         </td><td> 5,43          </td></tr>\n",
       "\t<tr><td>40 a 44 anos   </td><td> 3955          </td><td>0,0490         </td><td> 4,90          </td></tr>\n",
       "\t<tr><td>45 a 49 anos   </td><td> 3412          </td><td>0,0423         </td><td> 4,23          </td></tr>\n",
       "\t<tr><td>50 a 54 anos   </td><td> 2876          </td><td>0,0357         </td><td> 3,57          </td></tr>\n",
       "\t<tr><td>55 a 59 anos   </td><td> 2519          </td><td>0,0312         </td><td> 3,12          </td></tr>\n",
       "\t<tr><td>60 a 64 anos   </td><td> 2097          </td><td>0,0260         </td><td> 2,60          </td></tr>\n",
       "\t<tr><td>65 a 69 anos   </td><td> 1725          </td><td>0,0214         </td><td> 2,14          </td></tr>\n",
       "\t<tr><td>70 anos ou mais</td><td> 2936          </td><td>0,0364         </td><td> 3,64          </td></tr>\n",
       "</tbody>\n",
       "</table>\n"
      ],
      "text/latex": [
       "\\begin{tabular}{r|llll}\n",
       " Classe & Fora de Terras Indígenas (fi) & Frequência (fri) & Porcentagem (100xfri)\\\\\n",
       "\\hline\n",
       "\t Menos de 1 ano  &  1867           & 0,0231          &  2,31          \\\\\n",
       "\t 1 a  4 anos     &  8134           & 0,1008          & 10,08          \\\\\n",
       "\t 5 a  9 anos     & 10090           & 0,1251          & 12,51          \\\\\n",
       "\t 10 a 14 anos    &  9789           & 0,1214          & 12,14          \\\\\n",
       "\t 15 a 19 anos    &  8423           & 0,1044          & 10,44          \\\\\n",
       "\t 20 a 24 anos    &  7119           & 0,0883          &  8,83          \\\\\n",
       "\t 25 a 29 anos    &  6059           & 0,0751          &  7,51          \\\\\n",
       "\t 30 a 34 anos    &  5282           & 0,0655          &  6,55          \\\\\n",
       "\t 35 a 39 anos    &  4380           & 0,0543          &  5,43          \\\\\n",
       "\t 40 a 44 anos    &  3955           & 0,0490          &  4,90          \\\\\n",
       "\t 45 a 49 anos    &  3412           & 0,0423          &  4,23          \\\\\n",
       "\t 50 a 54 anos    &  2876           & 0,0357          &  3,57          \\\\\n",
       "\t 55 a 59 anos    &  2519           & 0,0312          &  3,12          \\\\\n",
       "\t 60 a 64 anos    &  2097           & 0,0260          &  2,60          \\\\\n",
       "\t 65 a 69 anos    &  1725           & 0,0214          &  2,14          \\\\\n",
       "\t 70 anos ou mais &  2936           & 0,0364          &  3,64          \\\\\n",
       "\\end{tabular}\n"
      ],
      "text/markdown": [
       "\n",
       "| Classe | Fora de Terras Indígenas (fi) | Frequência (fri) | Porcentagem (100xfri) |\n",
       "|---|---|---|---|\n",
       "| Menos de 1 ano  |  1867           | 0,0231          |  2,31           |\n",
       "| 1 a  4 anos     |  8134           | 0,1008          | 10,08           |\n",
       "| 5 a  9 anos     | 10090           | 0,1251          | 12,51           |\n",
       "| 10 a 14 anos    |  9789           | 0,1214          | 12,14           |\n",
       "| 15 a 19 anos    |  8423           | 0,1044          | 10,44           |\n",
       "| 20 a 24 anos    |  7119           | 0,0883          |  8,83           |\n",
       "| 25 a 29 anos    |  6059           | 0,0751          |  7,51           |\n",
       "| 30 a 34 anos    |  5282           | 0,0655          |  6,55           |\n",
       "| 35 a 39 anos    |  4380           | 0,0543          |  5,43           |\n",
       "| 40 a 44 anos    |  3955           | 0,0490          |  4,90           |\n",
       "| 45 a 49 anos    |  3412           | 0,0423          |  4,23           |\n",
       "| 50 a 54 anos    |  2876           | 0,0357          |  3,57           |\n",
       "| 55 a 59 anos    |  2519           | 0,0312          |  3,12           |\n",
       "| 60 a 64 anos    |  2097           | 0,0260          |  2,60           |\n",
       "| 65 a 69 anos    |  1725           | 0,0214          |  2,14           |\n",
       "| 70 anos ou mais |  2936           | 0,0364          |  3,64           |\n",
       "\n"
      ],
      "text/plain": [
       "   Classe          Fora de Terras Indígenas (fi) Frequência (fri)\n",
       "1  Menos de 1 ano   1867                         0,0231          \n",
       "2  1 a  4 anos      8134                         0,1008          \n",
       "3  5 a  9 anos     10090                         0,1251          \n",
       "4  10 a 14 anos     9789                         0,1214          \n",
       "5  15 a 19 anos     8423                         0,1044          \n",
       "6  20 a 24 anos     7119                         0,0883          \n",
       "7  25 a 29 anos     6059                         0,0751          \n",
       "8  30 a 34 anos     5282                         0,0655          \n",
       "9  35 a 39 anos     4380                         0,0543          \n",
       "10 40 a 44 anos     3955                         0,0490          \n",
       "11 45 a 49 anos     3412                         0,0423          \n",
       "12 50 a 54 anos     2876                         0,0357          \n",
       "13 55 a 59 anos     2519                         0,0312          \n",
       "14 60 a 64 anos     2097                         0,0260          \n",
       "15 65 a 69 anos     1725                         0,0214          \n",
       "16 70 anos ou mais  2936                         0,0364          \n",
       "   Porcentagem (100xfri)\n",
       "1   2,31                \n",
       "2  10,08                \n",
       "3  12,51                \n",
       "4  12,14                \n",
       "5  10,44                \n",
       "6   8,83                \n",
       "7   7,51                \n",
       "8   6,55                \n",
       "9   5,43                \n",
       "10  4,90                \n",
       "11  4,23                \n",
       "12  3,57                \n",
       "13  3,12                \n",
       "14  2,60                \n",
       "15  2,14                \n",
       "16  3,64                "
      ]
     },
     "metadata": {},
     "output_type": "display_data"
    }
   ],
   "source": [
    "geral_rural_fora_freq_table"
   ]
  },
  {
   "cell_type": "code",
   "execution_count": 118,
   "metadata": {},
   "outputs": [
    {
     "data": {
      "text/html": [
       "<table>\n",
       "<thead><tr><th></th><th scope=col>media</th><th scope=col>desvio_padrao</th><th scope=col>q1</th><th scope=col>q3</th><th scope=col>lim_inferior</th><th scope=col>lim_superior</th><th scope=col>assimetria</th><th scope=col>curtose</th></tr></thead>\n",
       "<tbody>\n",
       "\t<tr><th scope=row>25%</th><td>5041     </td><td>2874     </td><td>2786,75  </td><td>7372,75  </td><td>-4092,25 </td><td>14251,75 </td><td>0,5175788</td><td>1,86243  </td></tr>\n",
       "</tbody>\n",
       "</table>\n"
      ],
      "text/latex": [
       "\\begin{tabular}{r|llllllll}\n",
       "  & media & desvio\\_padrao & q1 & q3 & lim\\_inferior & lim\\_superior & assimetria & curtose\\\\\n",
       "\\hline\n",
       "\t25\\% & 5041      & 2874      & 2786,75   & 7372,75   & -4092,25  & 14251,75  & 0,5175788 & 1,86243  \\\\\n",
       "\\end{tabular}\n"
      ],
      "text/markdown": [
       "\n",
       "| <!--/--> | media | desvio_padrao | q1 | q3 | lim_inferior | lim_superior | assimetria | curtose |\n",
       "|---|---|---|---|---|---|---|---|---|\n",
       "| 25% | 5041      | 2874      | 2786,75   | 7372,75   | -4092,25  | 14251,75  | 0,5175788 | 1,86243   |\n",
       "\n"
      ],
      "text/plain": [
       "    media desvio_padrao q1      q3      lim_inferior lim_superior assimetria\n",
       "25% 5041  2874          2786,75 7372,75 -4092,25     14251,75     0,5175788 \n",
       "    curtose\n",
       "25% 1,86243"
      ]
     },
     "metadata": {},
     "output_type": "display_data"
    }
   ],
   "source": [
    "resumo_estatistico(geral_rural_fora_freq_table$`Fora de Terras Indígenas (fi)`)"
   ]
  },
  {
   "cell_type": "markdown",
   "metadata": {},
   "source": [
    "Interpretação:\n",
    "* Fora de terras indígenas temos uma média de `5041` pessoas que se declaram indígenas e um desvio padrão `2874`. Os jovens continuam sendo a grande maioria\n",
    "* Não temos valores discrepantes umas vez que nosso conjunto de dados não excede os limites inferior (`-4092.25`) e superior (`14251,75`)\n",
    "* O conjunto de dados apresentou uma assimetria positiva (`0.51`) e uma curtose de (`1.86`) que indica uma curva platicúrtica  "
   ]
  },
  {
   "cell_type": "markdown",
   "metadata": {},
   "source": [
    "## Visualização dos Dados"
   ]
  },
  {
   "cell_type": "markdown",
   "metadata": {},
   "source": [
    "### Gráfico de Barras"
   ]
  },
  {
   "cell_type": "code",
   "execution_count": 53,
   "metadata": {},
   "outputs": [
    {
     "data": {
      "image/png": "[encoded data removed]",
      "text/plain": [
       "plot without title"
      ]
     },
     "metadata": {},
     "output_type": "display_data"
    }
   ],
   "source": [
    "plot1 <- geral_rural_ind_freq_table %>%\n",
    "            ggplot(aes(fct_reorder(Classe,\n",
    "                           sort(`Declararam-se Indigenas (fi)`)),\n",
    "              `Declararam-se Indigenas (fi)`))+\n",
    "    coord_flip()+\n",
    "    geom_col(fill=\"lightblue\")+\n",
    "    ylim(0, 68000) +\n",
    "    labs(x = \"Idades\", y=\"Declararam-se Indígenas\") +\n",
    "    theme_classic()\n",
    "\n",
    "\n",
    "plot2 <- geral_rural_nind_freq_table %>%\n",
    "    ggplot(aes(fct_reorder(Classe,\n",
    "                           sort(`Não se declararam(fi)`)),\n",
    "              `Não se declararam(fi)`))+\n",
    "    coord_flip()+\n",
    "    geom_col(fill=\"lightblue\")+\n",
    "    ylim(0, 68000) +\n",
    "    labs(x = \"Idades\", y=\"Não se declararam\") +\n",
    "    theme_classic()\n",
    "\n",
    "plot3 <- geral_rural_fora_freq_table %>%\n",
    "    ggplot(aes(fct_reorder(Classe,\n",
    "                           sort(`Fora de Terras Indígenas (fi)`)),\n",
    "              `Fora de Terras Indígenas (fi)`))+\n",
    "    coord_flip()+\n",
    "    geom_col(fill=\"lightblue\")+\n",
    "    ylim(0, 68000) +\n",
    "    labs(x = \"Idades\", y=\"Fora de Terras Indígenas\") +\n",
    "    theme_classic()\n",
    "\n",
    "grid.arrange(plot1, plot2, plot3, nrow = 3)"
   ]
  },
  {
   "cell_type": "markdown",
   "metadata": {},
   "source": [
    "### Gráfico de Caixa - Box plot"
   ]
  },
  {
   "cell_type": "code",
   "execution_count": 14,
   "metadata": {},
   "outputs": [
    {
     "data": {
      "image/png": "[encoded data removed]",
      "text/plain": [
       "plot without title"
      ]
     },
     "metadata": {},
     "output_type": "display_data"
    }
   ],
   "source": [
    "boxplot(cbind(geral_rural_ind_freq_table$`Declararam-se Indigenas (fi)`,\n",
    "              geral_rural_nind_freq_table$`Não se declararam(fi)`,\n",
    "              geral_rural_fora_freq_table$`Fora de Terras Indígenas (fi)`), horiz=TRUE, col=\"lightblue\",\n",
    "        names = c(\"Declararam-se Indigenas\", \"Não se declararam\", \"Fora de Terras Indigenas\"), ylab=\"Quantidade\")\n"
   ]
  },
  {
   "cell_type": "markdown",
   "metadata": {},
   "source": [
    "### Curva de Densidade"
   ]
  },
  {
   "cell_type": "code",
   "execution_count": 15,
   "metadata": {},
   "outputs": [
    {
     "data": {
      "image/png": "[encoded data removed]",
      "text/plain": [
       "Plot with title “”"
      ]
     },
     "metadata": {},
     "output_type": "display_data"
    }
   ],
   "source": [
    "par(mfrow = c(3,1)) \n",
    "plot(density(geral_rural_ind_freq_table$`Declararam-se Indigenas (fi)`),main='',xlab='Indigena')\n",
    "plot(density(geral_rural_nind_freq_table$`Não se declararam(fi)`), main=\"\", xlab=\"Não Indigena\")\n",
    "plot(density(geral_rural_fora_freq_table$`Fora de Terras Indígenas (fi)`), main=\"\", xlab=\"Fora de Terras Indigenas\")"
   ]
  },
  {
   "cell_type": "markdown",
   "metadata": {},
   "source": [
    "# Analisando Conjunto de dados Homem Rural"
   ]
  },
  {
   "cell_type": "code",
   "execution_count": 16,
   "metadata": {},
   "outputs": [],
   "source": [
    "# gerando as tabelas de frequencia\n",
    "homem_rural_ind_freq_table <- freq_table_total(var = \"indigena\", tipo = \"homem\")\n",
    "homem_rural_nind_freq_table <- freq_table_total(var = \"nao_indigena\", tipo =\"homem\")\n",
    "homem_rural_fora_freq_table <- freq_table_total(var = \"fora\", tipo =\"homem\")"
   ]
  },
  {
   "cell_type": "markdown",
   "metadata": {},
   "source": [
    "#### Variável `Indígena`"
   ]
  },
  {
   "cell_type": "code",
   "execution_count": 17,
   "metadata": {},
   "outputs": [
    {
     "data": {
      "text/html": [
       "<table>\n",
       "<thead><tr><th scope=col>Classe</th><th scope=col>Declararam-se Indigenas (fi)</th><th scope=col>Frequência (fri)</th><th scope=col>Porcentagem (100xfri)</th></tr></thead>\n",
       "<tbody>\n",
       "\t<tr><td>Menos de 1 ano </td><td> 7225          </td><td>0,0333         </td><td> 3,33          </td></tr>\n",
       "\t<tr><td>1 a  4 anos    </td><td>28888          </td><td>0,1333         </td><td>13,33          </td></tr>\n",
       "\t<tr><td>5 a  9 anos    </td><td>34007          </td><td>0,1569         </td><td>15,69          </td></tr>\n",
       "\t<tr><td>10 a 14 anos   </td><td>29493          </td><td>0,1361         </td><td>13,61          </td></tr>\n",
       "\t<tr><td>15 a 19 anos   </td><td>23490          </td><td>0,1084         </td><td>10,84          </td></tr>\n",
       "\t<tr><td>20 a 24 anos   </td><td>19474          </td><td>0,0899         </td><td> 8,99          </td></tr>\n",
       "\t<tr><td>25 a 29 anos   </td><td>16023          </td><td>0,0739         </td><td> 7,39          </td></tr>\n",
       "\t<tr><td>30 a 34 anos   </td><td>12929          </td><td>0,0597         </td><td> 5,97          </td></tr>\n",
       "\t<tr><td>35 a 39 anos   </td><td>10534          </td><td>0,0486         </td><td> 4,86          </td></tr>\n",
       "\t<tr><td>40 a 44 anos   </td><td> 8038          </td><td>0,0371         </td><td> 3,71          </td></tr>\n",
       "\t<tr><td>45 a 49 anos   </td><td> 6341          </td><td>0,0293         </td><td> 2,93          </td></tr>\n",
       "\t<tr><td>50 a 54 anos   </td><td> 4709          </td><td>0,0217         </td><td> 2,17          </td></tr>\n",
       "\t<tr><td>55 a 59 anos   </td><td> 3848          </td><td>0,0178         </td><td> 1,78          </td></tr>\n",
       "\t<tr><td>60 a 64 anos   </td><td> 3310          </td><td>0,0153         </td><td> 1,53          </td></tr>\n",
       "\t<tr><td>65 a 69 anos   </td><td> 2691          </td><td>0,0124         </td><td> 1,24          </td></tr>\n",
       "\t<tr><td>70 anos ou mais</td><td> 5739          </td><td>0,0265         </td><td> 2,65          </td></tr>\n",
       "</tbody>\n",
       "</table>\n"
      ],
      "text/latex": [
       "\\begin{tabular}{r|llll}\n",
       " Classe & Declararam-se Indigenas (fi) & Frequência (fri) & Porcentagem (100xfri)\\\\\n",
       "\\hline\n",
       "\t Menos de 1 ano  &  7225           & 0,0333          &  3,33          \\\\\n",
       "\t 1 a  4 anos     & 28888           & 0,1333          & 13,33          \\\\\n",
       "\t 5 a  9 anos     & 34007           & 0,1569          & 15,69          \\\\\n",
       "\t 10 a 14 anos    & 29493           & 0,1361          & 13,61          \\\\\n",
       "\t 15 a 19 anos    & 23490           & 0,1084          & 10,84          \\\\\n",
       "\t 20 a 24 anos    & 19474           & 0,0899          &  8,99          \\\\\n",
       "\t 25 a 29 anos    & 16023           & 0,0739          &  7,39          \\\\\n",
       "\t 30 a 34 anos    & 12929           & 0,0597          &  5,97          \\\\\n",
       "\t 35 a 39 anos    & 10534           & 0,0486          &  4,86          \\\\\n",
       "\t 40 a 44 anos    &  8038           & 0,0371          &  3,71          \\\\\n",
       "\t 45 a 49 anos    &  6341           & 0,0293          &  2,93          \\\\\n",
       "\t 50 a 54 anos    &  4709           & 0,0217          &  2,17          \\\\\n",
       "\t 55 a 59 anos    &  3848           & 0,0178          &  1,78          \\\\\n",
       "\t 60 a 64 anos    &  3310           & 0,0153          &  1,53          \\\\\n",
       "\t 65 a 69 anos    &  2691           & 0,0124          &  1,24          \\\\\n",
       "\t 70 anos ou mais &  5739           & 0,0265          &  2,65          \\\\\n",
       "\\end{tabular}\n"
      ],
      "text/markdown": [
       "\n",
       "| Classe | Declararam-se Indigenas (fi) | Frequência (fri) | Porcentagem (100xfri) |\n",
       "|---|---|---|---|\n",
       "| Menos de 1 ano  |  7225           | 0,0333          |  3,33           |\n",
       "| 1 a  4 anos     | 28888           | 0,1333          | 13,33           |\n",
       "| 5 a  9 anos     | 34007           | 0,1569          | 15,69           |\n",
       "| 10 a 14 anos    | 29493           | 0,1361          | 13,61           |\n",
       "| 15 a 19 anos    | 23490           | 0,1084          | 10,84           |\n",
       "| 20 a 24 anos    | 19474           | 0,0899          |  8,99           |\n",
       "| 25 a 29 anos    | 16023           | 0,0739          |  7,39           |\n",
       "| 30 a 34 anos    | 12929           | 0,0597          |  5,97           |\n",
       "| 35 a 39 anos    | 10534           | 0,0486          |  4,86           |\n",
       "| 40 a 44 anos    |  8038           | 0,0371          |  3,71           |\n",
       "| 45 a 49 anos    |  6341           | 0,0293          |  2,93           |\n",
       "| 50 a 54 anos    |  4709           | 0,0217          |  2,17           |\n",
       "| 55 a 59 anos    |  3848           | 0,0178          |  1,78           |\n",
       "| 60 a 64 anos    |  3310           | 0,0153          |  1,53           |\n",
       "| 65 a 69 anos    |  2691           | 0,0124          |  1,24           |\n",
       "| 70 anos ou mais |  5739           | 0,0265          |  2,65           |\n",
       "\n"
      ],
      "text/plain": [
       "   Classe          Declararam-se Indigenas (fi) Frequência (fri)\n",
       "1  Menos de 1 ano   7225                        0,0333          \n",
       "2  1 a  4 anos     28888                        0,1333          \n",
       "3  5 a  9 anos     34007                        0,1569          \n",
       "4  10 a 14 anos    29493                        0,1361          \n",
       "5  15 a 19 anos    23490                        0,1084          \n",
       "6  20 a 24 anos    19474                        0,0899          \n",
       "7  25 a 29 anos    16023                        0,0739          \n",
       "8  30 a 34 anos    12929                        0,0597          \n",
       "9  35 a 39 anos    10534                        0,0486          \n",
       "10 40 a 44 anos     8038                        0,0371          \n",
       "11 45 a 49 anos     6341                        0,0293          \n",
       "12 50 a 54 anos     4709                        0,0217          \n",
       "13 55 a 59 anos     3848                        0,0178          \n",
       "14 60 a 64 anos     3310                        0,0153          \n",
       "15 65 a 69 anos     2691                        0,0124          \n",
       "16 70 anos ou mais  5739                        0,0265          \n",
       "   Porcentagem (100xfri)\n",
       "1   3,33                \n",
       "2  13,33                \n",
       "3  15,69                \n",
       "4  13,61                \n",
       "5  10,84                \n",
       "6   8,99                \n",
       "7   7,39                \n",
       "8   5,97                \n",
       "9   4,86                \n",
       "10  3,71                \n",
       "11  2,93                \n",
       "12  2,17                \n",
       "13  1,78                \n",
       "14  1,53                \n",
       "15  1,24                \n",
       "16  2,65                "
      ]
     },
     "metadata": {},
     "output_type": "display_data"
    }
   ],
   "source": [
    "homem_rural_ind_freq_table"
   ]
  },
  {
   "cell_type": "code",
   "execution_count": 128,
   "metadata": {},
   "outputs": [
    {
     "data": {
      "text/html": [
       "<table>\n",
       "<thead><tr><th></th><th scope=col>media</th><th scope=col>desvio_padrao</th><th scope=col>q1</th><th scope=col>q3</th><th scope=col>lim_inferior</th><th scope=col>lim_superior</th><th scope=col>assimetria</th><th scope=col>curtose</th></tr></thead>\n",
       "<tbody>\n",
       "\t<tr><th scope=row>25%</th><td>13546    </td><td>10443    </td><td>5481,5   </td><td>20478    </td><td>-17013,25</td><td>42972,75 </td><td>0,7368257</td><td>2,123756 </td></tr>\n",
       "</tbody>\n",
       "</table>\n"
      ],
      "text/latex": [
       "\\begin{tabular}{r|llllllll}\n",
       "  & media & desvio\\_padrao & q1 & q3 & lim\\_inferior & lim\\_superior & assimetria & curtose\\\\\n",
       "\\hline\n",
       "\t25\\% & 13546     & 10443     & 5481,5    & 20478     & -17013,25 & 42972,75  & 0,7368257 & 2,123756 \\\\\n",
       "\\end{tabular}\n"
      ],
      "text/markdown": [
       "\n",
       "| <!--/--> | media | desvio_padrao | q1 | q3 | lim_inferior | lim_superior | assimetria | curtose |\n",
       "|---|---|---|---|---|---|---|---|---|\n",
       "| 25% | 13546     | 10443     | 5481,5    | 20478     | -17013,25 | 42972,75  | 0,7368257 | 2,123756  |\n",
       "\n"
      ],
      "text/plain": [
       "    media desvio_padrao q1     q3    lim_inferior lim_superior assimetria\n",
       "25% 13546 10443         5481,5 20478 -17013,25    42972,75     0,7368257 \n",
       "    curtose \n",
       "25% 2,123756"
      ]
     },
     "metadata": {},
     "output_type": "display_data"
    }
   ],
   "source": [
    "# Estatistica de Resumo `indigenas`\n",
    "resumo_estatistico(homem_rural_ind_freq_table$`Declararam-se Indigenas (fi)`)"
   ]
  },
  {
   "cell_type": "markdown",
   "metadata": {},
   "source": [
    "Interpretação:\n",
    "* A média de homens que se declaram indígena em terras indígenas é de `13546` com um desvio padrão de `10443`. O grupo de idades com mais homens e o intervalo que vai dos 5 a 9 anos."
   ]
  },
  {
   "cell_type": "markdown",
   "metadata": {},
   "source": [
    "#### Variável `Não Indígena`"
   ]
  },
  {
   "cell_type": "code",
   "execution_count": 19,
   "metadata": {},
   "outputs": [
    {
     "data": {
      "text/html": [
       "<table>\n",
       "<thead><tr><th scope=col>Classe</th><th scope=col>Não se declararam(fi)</th><th scope=col>Frequência (fri)</th><th scope=col>Porcentagem (100xfri)</th></tr></thead>\n",
       "<tbody>\n",
       "\t<tr><td>Menos de 1 ano </td><td> 787           </td><td>0,0210         </td><td> 2,10          </td></tr>\n",
       "\t<tr><td>1 a  4 anos    </td><td>3403           </td><td>0,0908         </td><td> 9,08          </td></tr>\n",
       "\t<tr><td>5 a  9 anos    </td><td>4316           </td><td>0,1152         </td><td>11,52          </td></tr>\n",
       "\t<tr><td>10 a 14 anos   </td><td>4482           </td><td>0,1196         </td><td>11,96          </td></tr>\n",
       "\t<tr><td>15 a 19 anos   </td><td>3485           </td><td>0,0930         </td><td> 9,30          </td></tr>\n",
       "\t<tr><td>20 a 24 anos   </td><td>3338           </td><td>0,0891         </td><td> 8,91          </td></tr>\n",
       "\t<tr><td>25 a 29 anos   </td><td>3196           </td><td>0,0853         </td><td> 8,53          </td></tr>\n",
       "\t<tr><td>30 a 34 anos   </td><td>3026           </td><td>0,0807         </td><td> 8,07          </td></tr>\n",
       "\t<tr><td>35 a 39 anos   </td><td>2455           </td><td>0,0655         </td><td> 6,55          </td></tr>\n",
       "\t<tr><td>40 a 44 anos   </td><td>2286           </td><td>0,0610         </td><td> 6,10          </td></tr>\n",
       "\t<tr><td>45 a 49 anos   </td><td>1789           </td><td>0,0477         </td><td> 4,77          </td></tr>\n",
       "\t<tr><td>50 a 54 anos   </td><td>1376           </td><td>0,0367         </td><td> 3,67          </td></tr>\n",
       "\t<tr><td>55 a 59 anos   </td><td>1099           </td><td>0,0293         </td><td> 2,93          </td></tr>\n",
       "\t<tr><td>60 a 64 anos   </td><td> 875           </td><td>0,0233         </td><td> 2,33          </td></tr>\n",
       "\t<tr><td>65 a 69 anos   </td><td> 641           </td><td>0,0171         </td><td> 1,71          </td></tr>\n",
       "\t<tr><td>70 anos ou mais</td><td> 920           </td><td>0,0246         </td><td> 2,46          </td></tr>\n",
       "</tbody>\n",
       "</table>\n"
      ],
      "text/latex": [
       "\\begin{tabular}{r|llll}\n",
       " Classe & Não se declararam(fi) & Frequência (fri) & Porcentagem (100xfri)\\\\\n",
       "\\hline\n",
       "\t Menos de 1 ano  &  787            & 0,0210          &  2,10          \\\\\n",
       "\t 1 a  4 anos     & 3403            & 0,0908          &  9,08          \\\\\n",
       "\t 5 a  9 anos     & 4316            & 0,1152          & 11,52          \\\\\n",
       "\t 10 a 14 anos    & 4482            & 0,1196          & 11,96          \\\\\n",
       "\t 15 a 19 anos    & 3485            & 0,0930          &  9,30          \\\\\n",
       "\t 20 a 24 anos    & 3338            & 0,0891          &  8,91          \\\\\n",
       "\t 25 a 29 anos    & 3196            & 0,0853          &  8,53          \\\\\n",
       "\t 30 a 34 anos    & 3026            & 0,0807          &  8,07          \\\\\n",
       "\t 35 a 39 anos    & 2455            & 0,0655          &  6,55          \\\\\n",
       "\t 40 a 44 anos    & 2286            & 0,0610          &  6,10          \\\\\n",
       "\t 45 a 49 anos    & 1789            & 0,0477          &  4,77          \\\\\n",
       "\t 50 a 54 anos    & 1376            & 0,0367          &  3,67          \\\\\n",
       "\t 55 a 59 anos    & 1099            & 0,0293          &  2,93          \\\\\n",
       "\t 60 a 64 anos    &  875            & 0,0233          &  2,33          \\\\\n",
       "\t 65 a 69 anos    &  641            & 0,0171          &  1,71          \\\\\n",
       "\t 70 anos ou mais &  920            & 0,0246          &  2,46          \\\\\n",
       "\\end{tabular}\n"
      ],
      "text/markdown": [
       "\n",
       "| Classe | Não se declararam(fi) | Frequência (fri) | Porcentagem (100xfri) |\n",
       "|---|---|---|---|\n",
       "| Menos de 1 ano  |  787            | 0,0210          |  2,10           |\n",
       "| 1 a  4 anos     | 3403            | 0,0908          |  9,08           |\n",
       "| 5 a  9 anos     | 4316            | 0,1152          | 11,52           |\n",
       "| 10 a 14 anos    | 4482            | 0,1196          | 11,96           |\n",
       "| 15 a 19 anos    | 3485            | 0,0930          |  9,30           |\n",
       "| 20 a 24 anos    | 3338            | 0,0891          |  8,91           |\n",
       "| 25 a 29 anos    | 3196            | 0,0853          |  8,53           |\n",
       "| 30 a 34 anos    | 3026            | 0,0807          |  8,07           |\n",
       "| 35 a 39 anos    | 2455            | 0,0655          |  6,55           |\n",
       "| 40 a 44 anos    | 2286            | 0,0610          |  6,10           |\n",
       "| 45 a 49 anos    | 1789            | 0,0477          |  4,77           |\n",
       "| 50 a 54 anos    | 1376            | 0,0367          |  3,67           |\n",
       "| 55 a 59 anos    | 1099            | 0,0293          |  2,93           |\n",
       "| 60 a 64 anos    |  875            | 0,0233          |  2,33           |\n",
       "| 65 a 69 anos    |  641            | 0,0171          |  1,71           |\n",
       "| 70 anos ou mais |  920            | 0,0246          |  2,46           |\n",
       "\n"
      ],
      "text/plain": [
       "   Classe          Não se declararam(fi) Frequência (fri) Porcentagem (100xfri)\n",
       "1  Menos de 1 ano   787                  0,0210            2,10                \n",
       "2  1 a  4 anos     3403                  0,0908            9,08                \n",
       "3  5 a  9 anos     4316                  0,1152           11,52                \n",
       "4  10 a 14 anos    4482                  0,1196           11,96                \n",
       "5  15 a 19 anos    3485                  0,0930            9,30                \n",
       "6  20 a 24 anos    3338                  0,0891            8,91                \n",
       "7  25 a 29 anos    3196                  0,0853            8,53                \n",
       "8  30 a 34 anos    3026                  0,0807            8,07                \n",
       "9  35 a 39 anos    2455                  0,0655            6,55                \n",
       "10 40 a 44 anos    2286                  0,0610            6,10                \n",
       "11 45 a 49 anos    1789                  0,0477            4,77                \n",
       "12 50 a 54 anos    1376                  0,0367            3,67                \n",
       "13 55 a 59 anos    1099                  0,0293            2,93                \n",
       "14 60 a 64 anos     875                  0,0233            2,33                \n",
       "15 65 a 69 anos     641                  0,0171            1,71                \n",
       "16 70 anos ou mais  920                  0,0246            2,46                "
      ]
     },
     "metadata": {},
     "output_type": "display_data"
    }
   ],
   "source": [
    "homem_rural_nind_freq_table"
   ]
  },
  {
   "cell_type": "code",
   "execution_count": 120,
   "metadata": {},
   "outputs": [
    {
     "data": {
      "text/html": [
       "<table>\n",
       "<thead><tr><th></th><th scope=col>media</th><th scope=col>desvio_padrao</th><th scope=col>q1</th><th scope=col>q3</th><th scope=col>lim_inferior</th><th scope=col>lim_superior</th><th scope=col>assimetria</th><th scope=col>curtose</th></tr></thead>\n",
       "<tbody>\n",
       "\t<tr><th scope=row>25%</th><td>2342     </td><td>1301     </td><td>1054,25  </td><td>3354,25  </td><td>-2395,75 </td><td>6804,25  </td><td>0,1375437</td><td>1,667638 </td></tr>\n",
       "</tbody>\n",
       "</table>\n"
      ],
      "text/latex": [
       "\\begin{tabular}{r|llllllll}\n",
       "  & media & desvio\\_padrao & q1 & q3 & lim\\_inferior & lim\\_superior & assimetria & curtose\\\\\n",
       "\\hline\n",
       "\t25\\% & 2342      & 1301      & 1054,25   & 3354,25   & -2395,75  & 6804,25   & 0,1375437 & 1,667638 \\\\\n",
       "\\end{tabular}\n"
      ],
      "text/markdown": [
       "\n",
       "| <!--/--> | media | desvio_padrao | q1 | q3 | lim_inferior | lim_superior | assimetria | curtose |\n",
       "|---|---|---|---|---|---|---|---|---|\n",
       "| 25% | 2342      | 1301      | 1054,25   | 3354,25   | -2395,75  | 6804,25   | 0,1375437 | 1,667638  |\n",
       "\n"
      ],
      "text/plain": [
       "    media desvio_padrao q1      q3      lim_inferior lim_superior assimetria\n",
       "25% 2342  1301          1054,25 3354,25 -2395,75     6804,25      0,1375437 \n",
       "    curtose \n",
       "25% 1,667638"
      ]
     },
     "metadata": {},
     "output_type": "display_data"
    }
   ],
   "source": [
    "# Estatistica de Resumo `nao indigenas`\n",
    "resumo_estatistico(homem_rural_nind_freq_table$`Não se declararam(fi)`)"
   ]
  },
  {
   "cell_type": "markdown",
   "metadata": {},
   "source": [
    "#### Variável `Fora de Terras Indígenas`"
   ]
  },
  {
   "cell_type": "code",
   "execution_count": 21,
   "metadata": {},
   "outputs": [
    {
     "data": {
      "text/html": [
       "<table>\n",
       "<thead><tr><th scope=col>Classe</th><th scope=col>Fora de Terras Indígenas (fi)</th><th scope=col>Frequência (fri)</th><th scope=col>Porcentagem (100xfri)</th></tr></thead>\n",
       "<tbody>\n",
       "\t<tr><td>Menos de 1 ano </td><td> 937           </td><td>0,0223         </td><td> 2,23          </td></tr>\n",
       "\t<tr><td>1 a  4 anos    </td><td>4152           </td><td>0,0986         </td><td> 9,86          </td></tr>\n",
       "\t<tr><td>5 a  9 anos    </td><td>5189           </td><td>0,1233         </td><td>12,33          </td></tr>\n",
       "\t<tr><td>10 a 14 anos   </td><td>4963           </td><td>0,1179         </td><td>11,79          </td></tr>\n",
       "\t<tr><td>15 a 19 anos   </td><td>4359           </td><td>0,1036         </td><td>10,36          </td></tr>\n",
       "\t<tr><td>20 a 24 anos   </td><td>3766           </td><td>0,0895         </td><td> 8,95          </td></tr>\n",
       "\t<tr><td>25 a 29 anos   </td><td>3159           </td><td>0,0751         </td><td> 7,51          </td></tr>\n",
       "\t<tr><td>30 a 34 anos   </td><td>2723           </td><td>0,0647         </td><td> 6,47          </td></tr>\n",
       "\t<tr><td>35 a 39 anos   </td><td>2338           </td><td>0,0555         </td><td> 5,55          </td></tr>\n",
       "\t<tr><td>40 a 44 anos   </td><td>2140           </td><td>0,0508         </td><td> 5,08          </td></tr>\n",
       "\t<tr><td>45 a 49 anos   </td><td>1811           </td><td>0,0430         </td><td> 4,30          </td></tr>\n",
       "\t<tr><td>50 a 54 anos   </td><td>1560           </td><td>0,0371         </td><td> 3,71          </td></tr>\n",
       "\t<tr><td>55 a 59 anos   </td><td>1375           </td><td>0,0327         </td><td> 3,27          </td></tr>\n",
       "\t<tr><td>60 a 64 anos   </td><td>1124           </td><td>0,0267         </td><td> 2,67          </td></tr>\n",
       "\t<tr><td>65 a 69 anos   </td><td> 963           </td><td>0,0229         </td><td> 2,29          </td></tr>\n",
       "\t<tr><td>70 anos ou mais</td><td>1531           </td><td>0,0364         </td><td> 3,64          </td></tr>\n",
       "</tbody>\n",
       "</table>\n"
      ],
      "text/latex": [
       "\\begin{tabular}{r|llll}\n",
       " Classe & Fora de Terras Indígenas (fi) & Frequência (fri) & Porcentagem (100xfri)\\\\\n",
       "\\hline\n",
       "\t Menos de 1 ano  &  937            & 0,0223          &  2,23          \\\\\n",
       "\t 1 a  4 anos     & 4152            & 0,0986          &  9,86          \\\\\n",
       "\t 5 a  9 anos     & 5189            & 0,1233          & 12,33          \\\\\n",
       "\t 10 a 14 anos    & 4963            & 0,1179          & 11,79          \\\\\n",
       "\t 15 a 19 anos    & 4359            & 0,1036          & 10,36          \\\\\n",
       "\t 20 a 24 anos    & 3766            & 0,0895          &  8,95          \\\\\n",
       "\t 25 a 29 anos    & 3159            & 0,0751          &  7,51          \\\\\n",
       "\t 30 a 34 anos    & 2723            & 0,0647          &  6,47          \\\\\n",
       "\t 35 a 39 anos    & 2338            & 0,0555          &  5,55          \\\\\n",
       "\t 40 a 44 anos    & 2140            & 0,0508          &  5,08          \\\\\n",
       "\t 45 a 49 anos    & 1811            & 0,0430          &  4,30          \\\\\n",
       "\t 50 a 54 anos    & 1560            & 0,0371          &  3,71          \\\\\n",
       "\t 55 a 59 anos    & 1375            & 0,0327          &  3,27          \\\\\n",
       "\t 60 a 64 anos    & 1124            & 0,0267          &  2,67          \\\\\n",
       "\t 65 a 69 anos    &  963            & 0,0229          &  2,29          \\\\\n",
       "\t 70 anos ou mais & 1531            & 0,0364          &  3,64          \\\\\n",
       "\\end{tabular}\n"
      ],
      "text/markdown": [
       "\n",
       "| Classe | Fora de Terras Indígenas (fi) | Frequência (fri) | Porcentagem (100xfri) |\n",
       "|---|---|---|---|\n",
       "| Menos de 1 ano  |  937            | 0,0223          |  2,23           |\n",
       "| 1 a  4 anos     | 4152            | 0,0986          |  9,86           |\n",
       "| 5 a  9 anos     | 5189            | 0,1233          | 12,33           |\n",
       "| 10 a 14 anos    | 4963            | 0,1179          | 11,79           |\n",
       "| 15 a 19 anos    | 4359            | 0,1036          | 10,36           |\n",
       "| 20 a 24 anos    | 3766            | 0,0895          |  8,95           |\n",
       "| 25 a 29 anos    | 3159            | 0,0751          |  7,51           |\n",
       "| 30 a 34 anos    | 2723            | 0,0647          |  6,47           |\n",
       "| 35 a 39 anos    | 2338            | 0,0555          |  5,55           |\n",
       "| 40 a 44 anos    | 2140            | 0,0508          |  5,08           |\n",
       "| 45 a 49 anos    | 1811            | 0,0430          |  4,30           |\n",
       "| 50 a 54 anos    | 1560            | 0,0371          |  3,71           |\n",
       "| 55 a 59 anos    | 1375            | 0,0327          |  3,27           |\n",
       "| 60 a 64 anos    | 1124            | 0,0267          |  2,67           |\n",
       "| 65 a 69 anos    |  963            | 0,0229          |  2,29           |\n",
       "| 70 anos ou mais | 1531            | 0,0364          |  3,64           |\n",
       "\n"
      ],
      "text/plain": [
       "   Classe          Fora de Terras Indígenas (fi) Frequência (fri)\n",
       "1  Menos de 1 ano   937                          0,0223          \n",
       "2  1 a  4 anos     4152                          0,0986          \n",
       "3  5 a  9 anos     5189                          0,1233          \n",
       "4  10 a 14 anos    4963                          0,1179          \n",
       "5  15 a 19 anos    4359                          0,1036          \n",
       "6  20 a 24 anos    3766                          0,0895          \n",
       "7  25 a 29 anos    3159                          0,0751          \n",
       "8  30 a 34 anos    2723                          0,0647          \n",
       "9  35 a 39 anos    2338                          0,0555          \n",
       "10 40 a 44 anos    2140                          0,0508          \n",
       "11 45 a 49 anos    1811                          0,0430          \n",
       "12 50 a 54 anos    1560                          0,0371          \n",
       "13 55 a 59 anos    1375                          0,0327          \n",
       "14 60 a 64 anos    1124                          0,0267          \n",
       "15 65 a 69 anos     963                          0,0229          \n",
       "16 70 anos ou mais 1531                          0,0364          \n",
       "   Porcentagem (100xfri)\n",
       "1   2,23                \n",
       "2   9,86                \n",
       "3  12,33                \n",
       "4  11,79                \n",
       "5  10,36                \n",
       "6   8,95                \n",
       "7   7,51                \n",
       "8   6,47                \n",
       "9   5,55                \n",
       "10  5,08                \n",
       "11  4,30                \n",
       "12  3,71                \n",
       "13  3,27                \n",
       "14  2,67                \n",
       "15  2,29                \n",
       "16  3,64                "
      ]
     },
     "metadata": {},
     "output_type": "display_data"
    }
   ],
   "source": [
    "homem_rural_fora_freq_table"
   ]
  },
  {
   "cell_type": "code",
   "execution_count": 121,
   "metadata": {},
   "outputs": [
    {
     "data": {
      "text/html": [
       "<table>\n",
       "<thead><tr><th></th><th scope=col>media</th><th scope=col>desvio_padrao</th><th scope=col>q1</th><th scope=col>q3</th><th scope=col>lim_inferior</th><th scope=col>lim_superior</th><th scope=col>assimetria</th><th scope=col>curtose</th></tr></thead>\n",
       "<tbody>\n",
       "\t<tr><th scope=row>25%</th><td>2631     </td><td>1454     </td><td>1492     </td><td>3862,5   </td><td>-2063,75 </td><td>7418,25  </td><td>0,4834265</td><td>1,83503  </td></tr>\n",
       "</tbody>\n",
       "</table>\n"
      ],
      "text/latex": [
       "\\begin{tabular}{r|llllllll}\n",
       "  & media & desvio\\_padrao & q1 & q3 & lim\\_inferior & lim\\_superior & assimetria & curtose\\\\\n",
       "\\hline\n",
       "\t25\\% & 2631      & 1454      & 1492      & 3862,5    & -2063,75  & 7418,25   & 0,4834265 & 1,83503  \\\\\n",
       "\\end{tabular}\n"
      ],
      "text/markdown": [
       "\n",
       "| <!--/--> | media | desvio_padrao | q1 | q3 | lim_inferior | lim_superior | assimetria | curtose |\n",
       "|---|---|---|---|---|---|---|---|---|\n",
       "| 25% | 2631      | 1454      | 1492      | 3862,5    | -2063,75  | 7418,25   | 0,4834265 | 1,83503   |\n",
       "\n"
      ],
      "text/plain": [
       "    media desvio_padrao q1   q3     lim_inferior lim_superior assimetria\n",
       "25% 2631  1454          1492 3862,5 -2063,75     7418,25      0,4834265 \n",
       "    curtose\n",
       "25% 1,83503"
      ]
     },
     "metadata": {},
     "output_type": "display_data"
    }
   ],
   "source": [
    "# Estatistica de Resumo `fora terras indigenas`\n",
    "resumo_estatistico(homem_rural_fora_freq_table$`Fora de Terras Indígenas (fi)`)"
   ]
  },
  {
   "cell_type": "markdown",
   "metadata": {},
   "source": [
    "## Gráfico de Barras"
   ]
  },
  {
   "cell_type": "code",
   "execution_count": 57,
   "metadata": {},
   "outputs": [
    {
     "data": {
      "image/png": "[encoded data removed]",
      "text/plain": [
       "plot without title"
      ]
     },
     "metadata": {},
     "output_type": "display_data"
    }
   ],
   "source": [
    "plot1 <- homem_rural_ind_freq_table %>%\n",
    "            ggplot(aes(fct_reorder(Classe,\n",
    "                           sort(`Declararam-se Indigenas (fi)`)),\n",
    "              `Declararam-se Indigenas (fi)`))+\n",
    "    coord_flip()+\n",
    "    geom_col(fill=\"lightblue\")+\n",
    "    ylim(0, 40000) +\n",
    "    labs(x = \"Idades\", y=\"Declararam-se Indígenas\") +\n",
    "    theme_classic()\n",
    "\n",
    "\n",
    "plot2 <- homem_rural_nind_freq_table %>%\n",
    "    ggplot(aes(fct_reorder(Classe,\n",
    "                           sort(`Não se declararam(fi)`)),\n",
    "              `Não se declararam(fi)`))+\n",
    "    coord_flip()+\n",
    "    geom_col(fill=\"lightblue\")+\n",
    "    ylim(0, 40000) +\n",
    "    labs(x = \"Idades\", y=\"Não se declararam\") +\n",
    "    theme_classic()\n",
    "\n",
    "plot3 <- homem_rural_fora_freq_table %>%\n",
    "    ggplot(aes(fct_reorder(Classe,\n",
    "                           sort(`Fora de Terras Indígenas (fi)`)),\n",
    "              `Fora de Terras Indígenas (fi)`))+\n",
    "    coord_flip()+\n",
    "    geom_col(fill=\"lightblue\")+\n",
    "    ylim(0, 40000) +\n",
    "    labs(x = \"Idades\", y=\"Fora de Terras Indígenas\") +\n",
    "    theme_classic()\n",
    "\n",
    "grid.arrange(plot1, plot2, plot3, nrow = 3)"
   ]
  },
  {
   "cell_type": "markdown",
   "metadata": {},
   "source": [
    "## Gráfico de Caixa - Box plot\n"
   ]
  },
  {
   "cell_type": "code",
   "execution_count": 24,
   "metadata": {},
   "outputs": [
    {
     "data": {
      "image/png": "[encoded data removed]",
      "text/plain": [
       "plot without title"
      ]
     },
     "metadata": {},
     "output_type": "display_data"
    }
   ],
   "source": [
    "boxplot(cbind(homem_rural_ind_freq_table$`Declararam-se Indigenas (fi)`,\n",
    "              homem_rural_nind_freq_table$`Não se declararam(fi)`,\n",
    "              homem_rural_fora_freq_table$`Fora de Terras Indígenas (fi)`), horiz=TRUE, col=\"lightblue\",\n",
    "        names = c(\"Declararam-se Indigenas\", \"Não se declararam\", \"Fora de Terras Indigenas\"), ylab=\"Quantidade\")\n"
   ]
  },
  {
   "cell_type": "markdown",
   "metadata": {},
   "source": [
    "## Curva de Densidade"
   ]
  },
  {
   "cell_type": "code",
   "execution_count": 25,
   "metadata": {},
   "outputs": [
    {
     "data": {
      "image/png": "[encoded data removed]",
      "text/plain": [
       "Plot with title “”"
      ]
     },
     "metadata": {},
     "output_type": "display_data"
    }
   ],
   "source": [
    "par(mfrow = c(3,1)) \n",
    "plot(density(homem_rural_ind_freq_table$`Declararam-se Indigenas (fi)`),main='',xlab='Indigena')\n",
    "plot(density(homem_rural_nind_freq_table$`Não se declararam(fi)`), main=\"\", xlab=\"Não Indigena\")\n",
    "plot(density(homem_rural_fora_freq_table$`Fora de Terras Indígenas (fi)`), main=\"\", xlab=\"Fora de Terras Indigenas\")"
   ]
  },
  {
   "cell_type": "markdown",
   "metadata": {},
   "source": [
    "# Analisando Conjunto de dados Mulheres Rural"
   ]
  },
  {
   "cell_type": "code",
   "execution_count": 26,
   "metadata": {},
   "outputs": [],
   "source": [
    "# gerando as tabelas de frequencia\n",
    "mulher_rural_ind_freq_table <- freq_table_total(var = \"indigena\", tipo = \"mulher\")\n",
    "mulher_rural_nind_freq_table <- freq_table_total(var = \"nao_indigena\", tipo =\"mulher\")\n",
    "mulher_rural_fora_freq_table <- freq_table_total(var = \"fora\", tipo =\"mulher\")"
   ]
  },
  {
   "cell_type": "markdown",
   "metadata": {},
   "source": [
    "#### Variável `Indígena`"
   ]
  },
  {
   "cell_type": "code",
   "execution_count": 27,
   "metadata": {},
   "outputs": [
    {
     "data": {
      "text/html": [
       "<table>\n",
       "<thead><tr><th scope=col>Classe</th><th scope=col>Declararam-se Indigenas (fi)</th><th scope=col>Frequência (fri)</th><th scope=col>Porcentagem (100xfri)</th></tr></thead>\n",
       "<tbody>\n",
       "\t<tr><td>Menos de 1 ano </td><td> 7064          </td><td>0,0344         </td><td> 3,44          </td></tr>\n",
       "\t<tr><td>1 a  4 anos    </td><td>28250          </td><td>0,1376         </td><td>13,76          </td></tr>\n",
       "\t<tr><td>5 a  9 anos    </td><td>33032          </td><td>0,1608         </td><td>16,08          </td></tr>\n",
       "\t<tr><td>10 a 14 anos   </td><td>28447          </td><td>0,1385         </td><td>13,85          </td></tr>\n",
       "\t<tr><td>15 a 19 anos   </td><td>22471          </td><td>0,1094         </td><td>10,94          </td></tr>\n",
       "\t<tr><td>20 a 24 anos   </td><td>18151          </td><td>0,0884         </td><td> 8,84          </td></tr>\n",
       "\t<tr><td>25 a 29 anos   </td><td>15104          </td><td>0,0735         </td><td> 7,35          </td></tr>\n",
       "\t<tr><td>30 a 34 anos   </td><td>11950          </td><td>0,0582         </td><td> 5,82          </td></tr>\n",
       "\t<tr><td>35 a 39 anos   </td><td> 9218          </td><td>0,0449         </td><td> 4,49          </td></tr>\n",
       "\t<tr><td>40 a 44 anos   </td><td> 7035          </td><td>0,0343         </td><td> 3,43          </td></tr>\n",
       "\t<tr><td>45 a 49 anos   </td><td> 5506          </td><td>0,0268         </td><td> 2,68          </td></tr>\n",
       "\t<tr><td>50 a 54 anos   </td><td> 4055          </td><td>0,0197         </td><td> 1,97          </td></tr>\n",
       "\t<tr><td>55 a 59 anos   </td><td> 3494          </td><td>0,0170         </td><td> 1,70          </td></tr>\n",
       "\t<tr><td>60 a 64 anos   </td><td> 3118          </td><td>0,0152         </td><td> 1,52          </td></tr>\n",
       "\t<tr><td>65 a 69 anos   </td><td> 3023          </td><td>0,0147         </td><td> 1,47          </td></tr>\n",
       "\t<tr><td>70 anos ou mais</td><td> 5451          </td><td>0,0265         </td><td> 2,65          </td></tr>\n",
       "</tbody>\n",
       "</table>\n"
      ],
      "text/latex": [
       "\\begin{tabular}{r|llll}\n",
       " Classe & Declararam-se Indigenas (fi) & Frequência (fri) & Porcentagem (100xfri)\\\\\n",
       "\\hline\n",
       "\t Menos de 1 ano  &  7064           & 0,0344          &  3,44          \\\\\n",
       "\t 1 a  4 anos     & 28250           & 0,1376          & 13,76          \\\\\n",
       "\t 5 a  9 anos     & 33032           & 0,1608          & 16,08          \\\\\n",
       "\t 10 a 14 anos    & 28447           & 0,1385          & 13,85          \\\\\n",
       "\t 15 a 19 anos    & 22471           & 0,1094          & 10,94          \\\\\n",
       "\t 20 a 24 anos    & 18151           & 0,0884          &  8,84          \\\\\n",
       "\t 25 a 29 anos    & 15104           & 0,0735          &  7,35          \\\\\n",
       "\t 30 a 34 anos    & 11950           & 0,0582          &  5,82          \\\\\n",
       "\t 35 a 39 anos    &  9218           & 0,0449          &  4,49          \\\\\n",
       "\t 40 a 44 anos    &  7035           & 0,0343          &  3,43          \\\\\n",
       "\t 45 a 49 anos    &  5506           & 0,0268          &  2,68          \\\\\n",
       "\t 50 a 54 anos    &  4055           & 0,0197          &  1,97          \\\\\n",
       "\t 55 a 59 anos    &  3494           & 0,0170          &  1,70          \\\\\n",
       "\t 60 a 64 anos    &  3118           & 0,0152          &  1,52          \\\\\n",
       "\t 65 a 69 anos    &  3023           & 0,0147          &  1,47          \\\\\n",
       "\t 70 anos ou mais &  5451           & 0,0265          &  2,65          \\\\\n",
       "\\end{tabular}\n"
      ],
      "text/markdown": [
       "\n",
       "| Classe | Declararam-se Indigenas (fi) | Frequência (fri) | Porcentagem (100xfri) |\n",
       "|---|---|---|---|\n",
       "| Menos de 1 ano  |  7064           | 0,0344          |  3,44           |\n",
       "| 1 a  4 anos     | 28250           | 0,1376          | 13,76           |\n",
       "| 5 a  9 anos     | 33032           | 0,1608          | 16,08           |\n",
       "| 10 a 14 anos    | 28447           | 0,1385          | 13,85           |\n",
       "| 15 a 19 anos    | 22471           | 0,1094          | 10,94           |\n",
       "| 20 a 24 anos    | 18151           | 0,0884          |  8,84           |\n",
       "| 25 a 29 anos    | 15104           | 0,0735          |  7,35           |\n",
       "| 30 a 34 anos    | 11950           | 0,0582          |  5,82           |\n",
       "| 35 a 39 anos    |  9218           | 0,0449          |  4,49           |\n",
       "| 40 a 44 anos    |  7035           | 0,0343          |  3,43           |\n",
       "| 45 a 49 anos    |  5506           | 0,0268          |  2,68           |\n",
       "| 50 a 54 anos    |  4055           | 0,0197          |  1,97           |\n",
       "| 55 a 59 anos    |  3494           | 0,0170          |  1,70           |\n",
       "| 60 a 64 anos    |  3118           | 0,0152          |  1,52           |\n",
       "| 65 a 69 anos    |  3023           | 0,0147          |  1,47           |\n",
       "| 70 anos ou mais |  5451           | 0,0265          |  2,65           |\n",
       "\n"
      ],
      "text/plain": [
       "   Classe          Declararam-se Indigenas (fi) Frequência (fri)\n",
       "1  Menos de 1 ano   7064                        0,0344          \n",
       "2  1 a  4 anos     28250                        0,1376          \n",
       "3  5 a  9 anos     33032                        0,1608          \n",
       "4  10 a 14 anos    28447                        0,1385          \n",
       "5  15 a 19 anos    22471                        0,1094          \n",
       "6  20 a 24 anos    18151                        0,0884          \n",
       "7  25 a 29 anos    15104                        0,0735          \n",
       "8  30 a 34 anos    11950                        0,0582          \n",
       "9  35 a 39 anos     9218                        0,0449          \n",
       "10 40 a 44 anos     7035                        0,0343          \n",
       "11 45 a 49 anos     5506                        0,0268          \n",
       "12 50 a 54 anos     4055                        0,0197          \n",
       "13 55 a 59 anos     3494                        0,0170          \n",
       "14 60 a 64 anos     3118                        0,0152          \n",
       "15 65 a 69 anos     3023                        0,0147          \n",
       "16 70 anos ou mais  5451                        0,0265          \n",
       "   Porcentagem (100xfri)\n",
       "1   3,44                \n",
       "2  13,76                \n",
       "3  16,08                \n",
       "4  13,85                \n",
       "5  10,94                \n",
       "6   8,84                \n",
       "7   7,35                \n",
       "8   5,82                \n",
       "9   4,49                \n",
       "10  3,43                \n",
       "11  2,68                \n",
       "12  1,97                \n",
       "13  1,70                \n",
       "14  1,52                \n",
       "15  1,47                \n",
       "16  2,65                "
      ]
     },
     "metadata": {},
     "output_type": "display_data"
    }
   ],
   "source": [
    "mulher_rural_ind_freq_table"
   ]
  },
  {
   "cell_type": "code",
   "execution_count": 122,
   "metadata": {},
   "outputs": [
    {
     "data": {
      "text/html": [
       "<table>\n",
       "<thead><tr><th></th><th scope=col>media</th><th scope=col>desvio_padrao</th><th scope=col>q1</th><th scope=col>q3</th><th scope=col>lim_inferior</th><th scope=col>lim_superior</th><th scope=col>assimetria</th><th scope=col>curtose</th></tr></thead>\n",
       "<tbody>\n",
       "\t<tr><th scope=row>25%</th><td>12836    </td><td>10197    </td><td>5102     </td><td>19231    </td><td>-16091,5 </td><td>40424,5  </td><td>0,7906952</td><td>2,181849 </td></tr>\n",
       "</tbody>\n",
       "</table>\n"
      ],
      "text/latex": [
       "\\begin{tabular}{r|llllllll}\n",
       "  & media & desvio\\_padrao & q1 & q3 & lim\\_inferior & lim\\_superior & assimetria & curtose\\\\\n",
       "\\hline\n",
       "\t25\\% & 12836     & 10197     & 5102      & 19231     & -16091,5  & 40424,5   & 0,7906952 & 2,181849 \\\\\n",
       "\\end{tabular}\n"
      ],
      "text/markdown": [
       "\n",
       "| <!--/--> | media | desvio_padrao | q1 | q3 | lim_inferior | lim_superior | assimetria | curtose |\n",
       "|---|---|---|---|---|---|---|---|---|\n",
       "| 25% | 12836     | 10197     | 5102      | 19231     | -16091,5  | 40424,5   | 0,7906952 | 2,181849  |\n",
       "\n"
      ],
      "text/plain": [
       "    media desvio_padrao q1   q3    lim_inferior lim_superior assimetria\n",
       "25% 12836 10197         5102 19231 -16091,5     40424,5      0,7906952 \n",
       "    curtose \n",
       "25% 2,181849"
      ]
     },
     "metadata": {},
     "output_type": "display_data"
    }
   ],
   "source": [
    "# Estatistica de Resumo `indigenas`\n",
    "resumo_estatistico(mulher_rural_ind_freq_table$`Declararam-se Indigenas (fi)`)"
   ]
  },
  {
   "cell_type": "markdown",
   "metadata": {},
   "source": [
    "#### Variável `Não Indígena`"
   ]
  },
  {
   "cell_type": "code",
   "execution_count": 29,
   "metadata": {},
   "outputs": [
    {
     "data": {
      "text/html": [
       "<table>\n",
       "<thead><tr><th scope=col>Classe</th><th scope=col>Não se declararam(fi)</th><th scope=col>Frequência (fri)</th><th scope=col>Porcentagem (100xfri)</th></tr></thead>\n",
       "<tbody>\n",
       "\t<tr><td>Menos de 1 ano </td><td> 731           </td><td>0,0230         </td><td> 2,30          </td></tr>\n",
       "\t<tr><td>1 a  4 anos    </td><td>3353           </td><td>0,1053         </td><td>10,53          </td></tr>\n",
       "\t<tr><td>5 a  9 anos    </td><td>4054           </td><td>0,1273         </td><td>12,73          </td></tr>\n",
       "\t<tr><td>10 a 14 anos   </td><td>3972           </td><td>0,1248         </td><td>12,48          </td></tr>\n",
       "\t<tr><td>15 a 19 anos   </td><td>3190           </td><td>0,1002         </td><td>10,02          </td></tr>\n",
       "\t<tr><td>20 a 24 anos   </td><td>2926           </td><td>0,0919         </td><td> 9,19          </td></tr>\n",
       "\t<tr><td>25 a 29 anos   </td><td>2886           </td><td>0,0906         </td><td> 9,06          </td></tr>\n",
       "\t<tr><td>30 a 34 anos   </td><td>2317           </td><td>0,0728         </td><td> 7,28          </td></tr>\n",
       "\t<tr><td>35 a 39 anos   </td><td>1827           </td><td>0,0574         </td><td> 5,74          </td></tr>\n",
       "\t<tr><td>40 a 44 anos   </td><td>1604           </td><td>0,0504         </td><td> 5,04          </td></tr>\n",
       "\t<tr><td>45 a 49 anos   </td><td>1308           </td><td>0,0411         </td><td> 4,11          </td></tr>\n",
       "\t<tr><td>50 a 54 anos   </td><td>1073           </td><td>0,0337         </td><td> 3,37          </td></tr>\n",
       "\t<tr><td>55 a 59 anos   </td><td> 821           </td><td>0,0258         </td><td> 2,58          </td></tr>\n",
       "\t<tr><td>60 a 64 anos   </td><td> 583           </td><td>0,0183         </td><td> 1,83          </td></tr>\n",
       "\t<tr><td>65 a 69 anos   </td><td> 444           </td><td>0,0139         </td><td> 1,39          </td></tr>\n",
       "\t<tr><td>70 anos ou mais</td><td> 749           </td><td>0,0235         </td><td> 2,35          </td></tr>\n",
       "</tbody>\n",
       "</table>\n"
      ],
      "text/latex": [
       "\\begin{tabular}{r|llll}\n",
       " Classe & Não se declararam(fi) & Frequência (fri) & Porcentagem (100xfri)\\\\\n",
       "\\hline\n",
       "\t Menos de 1 ano  &  731            & 0,0230          &  2,30          \\\\\n",
       "\t 1 a  4 anos     & 3353            & 0,1053          & 10,53          \\\\\n",
       "\t 5 a  9 anos     & 4054            & 0,1273          & 12,73          \\\\\n",
       "\t 10 a 14 anos    & 3972            & 0,1248          & 12,48          \\\\\n",
       "\t 15 a 19 anos    & 3190            & 0,1002          & 10,02          \\\\\n",
       "\t 20 a 24 anos    & 2926            & 0,0919          &  9,19          \\\\\n",
       "\t 25 a 29 anos    & 2886            & 0,0906          &  9,06          \\\\\n",
       "\t 30 a 34 anos    & 2317            & 0,0728          &  7,28          \\\\\n",
       "\t 35 a 39 anos    & 1827            & 0,0574          &  5,74          \\\\\n",
       "\t 40 a 44 anos    & 1604            & 0,0504          &  5,04          \\\\\n",
       "\t 45 a 49 anos    & 1308            & 0,0411          &  4,11          \\\\\n",
       "\t 50 a 54 anos    & 1073            & 0,0337          &  3,37          \\\\\n",
       "\t 55 a 59 anos    &  821            & 0,0258          &  2,58          \\\\\n",
       "\t 60 a 64 anos    &  583            & 0,0183          &  1,83          \\\\\n",
       "\t 65 a 69 anos    &  444            & 0,0139          &  1,39          \\\\\n",
       "\t 70 anos ou mais &  749            & 0,0235          &  2,35          \\\\\n",
       "\\end{tabular}\n"
      ],
      "text/markdown": [
       "\n",
       "| Classe | Não se declararam(fi) | Frequência (fri) | Porcentagem (100xfri) |\n",
       "|---|---|---|---|\n",
       "| Menos de 1 ano  |  731            | 0,0230          |  2,30           |\n",
       "| 1 a  4 anos     | 3353            | 0,1053          | 10,53           |\n",
       "| 5 a  9 anos     | 4054            | 0,1273          | 12,73           |\n",
       "| 10 a 14 anos    | 3972            | 0,1248          | 12,48           |\n",
       "| 15 a 19 anos    | 3190            | 0,1002          | 10,02           |\n",
       "| 20 a 24 anos    | 2926            | 0,0919          |  9,19           |\n",
       "| 25 a 29 anos    | 2886            | 0,0906          |  9,06           |\n",
       "| 30 a 34 anos    | 2317            | 0,0728          |  7,28           |\n",
       "| 35 a 39 anos    | 1827            | 0,0574          |  5,74           |\n",
       "| 40 a 44 anos    | 1604            | 0,0504          |  5,04           |\n",
       "| 45 a 49 anos    | 1308            | 0,0411          |  4,11           |\n",
       "| 50 a 54 anos    | 1073            | 0,0337          |  3,37           |\n",
       "| 55 a 59 anos    |  821            | 0,0258          |  2,58           |\n",
       "| 60 a 64 anos    |  583            | 0,0183          |  1,83           |\n",
       "| 65 a 69 anos    |  444            | 0,0139          |  1,39           |\n",
       "| 70 anos ou mais |  749            | 0,0235          |  2,35           |\n",
       "\n"
      ],
      "text/plain": [
       "   Classe          Não se declararam(fi) Frequência (fri) Porcentagem (100xfri)\n",
       "1  Menos de 1 ano   731                  0,0230            2,30                \n",
       "2  1 a  4 anos     3353                  0,1053           10,53                \n",
       "3  5 a  9 anos     4054                  0,1273           12,73                \n",
       "4  10 a 14 anos    3972                  0,1248           12,48                \n",
       "5  15 a 19 anos    3190                  0,1002           10,02                \n",
       "6  20 a 24 anos    2926                  0,0919            9,19                \n",
       "7  25 a 29 anos    2886                  0,0906            9,06                \n",
       "8  30 a 34 anos    2317                  0,0728            7,28                \n",
       "9  35 a 39 anos    1827                  0,0574            5,74                \n",
       "10 40 a 44 anos    1604                  0,0504            5,04                \n",
       "11 45 a 49 anos    1308                  0,0411            4,11                \n",
       "12 50 a 54 anos    1073                  0,0337            3,37                \n",
       "13 55 a 59 anos     821                  0,0258            2,58                \n",
       "14 60 a 64 anos     583                  0,0183            1,83                \n",
       "15 65 a 69 anos     444                  0,0139            1,39                \n",
       "16 70 anos ou mais  749                  0,0235            2,35                "
      ]
     },
     "metadata": {},
     "output_type": "display_data"
    }
   ],
   "source": [
    "mulher_rural_nind_freq_table"
   ]
  },
  {
   "cell_type": "code",
   "execution_count": 123,
   "metadata": {},
   "outputs": [
    {
     "data": {
      "text/html": [
       "<table>\n",
       "<thead><tr><th></th><th scope=col>media</th><th scope=col>desvio_padrao</th><th scope=col>q1</th><th scope=col>q3</th><th scope=col>lim_inferior</th><th scope=col>lim_superior</th><th scope=col>assimetria</th><th scope=col>curtose</th></tr></thead>\n",
       "<tbody>\n",
       "\t<tr><th scope=row>25%</th><td>1990     </td><td>1255     </td><td>803      </td><td>2992     </td><td>-2480,5  </td><td>6275,5   </td><td>0,3237089</td><td>1,660128 </td></tr>\n",
       "</tbody>\n",
       "</table>\n"
      ],
      "text/latex": [
       "\\begin{tabular}{r|llllllll}\n",
       "  & media & desvio\\_padrao & q1 & q3 & lim\\_inferior & lim\\_superior & assimetria & curtose\\\\\n",
       "\\hline\n",
       "\t25\\% & 1990      & 1255      & 803       & 2992      & -2480,5   & 6275,5    & 0,3237089 & 1,660128 \\\\\n",
       "\\end{tabular}\n"
      ],
      "text/markdown": [
       "\n",
       "| <!--/--> | media | desvio_padrao | q1 | q3 | lim_inferior | lim_superior | assimetria | curtose |\n",
       "|---|---|---|---|---|---|---|---|---|\n",
       "| 25% | 1990      | 1255      | 803       | 2992      | -2480,5   | 6275,5    | 0,3237089 | 1,660128  |\n",
       "\n"
      ],
      "text/plain": [
       "    media desvio_padrao q1  q3   lim_inferior lim_superior assimetria curtose \n",
       "25% 1990  1255          803 2992 -2480,5      6275,5       0,3237089  1,660128"
      ]
     },
     "metadata": {},
     "output_type": "display_data"
    }
   ],
   "source": [
    "# Estatistica de Resumo `nao indigenas`\n",
    "resumo_estatistico(mulher_rural_nind_freq_table$`Não se declararam(fi)`)"
   ]
  },
  {
   "cell_type": "markdown",
   "metadata": {},
   "source": [
    "#### Variável `Fora de Terras Indígenas`"
   ]
  },
  {
   "cell_type": "code",
   "execution_count": 127,
   "metadata": {},
   "outputs": [
    {
     "data": {
      "text/html": [
       "<table>\n",
       "<thead><tr><th scope=col>Classe</th><th scope=col>Fora de Terras Indígenas (fi)</th><th scope=col>Frequência (fri)</th><th scope=col>Porcentagem (100xfri)</th></tr></thead>\n",
       "<tbody>\n",
       "\t<tr><td>Menos de 1 ano </td><td> 930           </td><td>0,0241         </td><td> 2,41          </td></tr>\n",
       "\t<tr><td>1 a  4 anos    </td><td>3982           </td><td>0,1032         </td><td>10,32          </td></tr>\n",
       "\t<tr><td>5 a  9 anos    </td><td>4901           </td><td>0,1271         </td><td>12,71          </td></tr>\n",
       "\t<tr><td>10 a 14 anos   </td><td>4826           </td><td>0,1251         </td><td>12,51          </td></tr>\n",
       "\t<tr><td>15 a 19 anos   </td><td>4064           </td><td>0,1054         </td><td>10,54          </td></tr>\n",
       "\t<tr><td>20 a 24 anos   </td><td>3353           </td><td>0,0869         </td><td> 8,69          </td></tr>\n",
       "\t<tr><td>25 a 29 anos   </td><td>2900           </td><td>0,0752         </td><td> 7,52          </td></tr>\n",
       "\t<tr><td>30 a 34 anos   </td><td>2559           </td><td>0,0663         </td><td> 6,63          </td></tr>\n",
       "\t<tr><td>35 a 39 anos   </td><td>2042           </td><td>0,0529         </td><td> 5,29          </td></tr>\n",
       "\t<tr><td>40 a 44 anos   </td><td>1815           </td><td>0,0471         </td><td> 4,71          </td></tr>\n",
       "\t<tr><td>45 a 49 anos   </td><td>1601           </td><td>0,0415         </td><td> 4,15          </td></tr>\n",
       "\t<tr><td>50 a 54 anos   </td><td>1316           </td><td>0,0341         </td><td> 3,41          </td></tr>\n",
       "\t<tr><td>55 a 59 anos   </td><td>1144           </td><td>0,0297         </td><td> 2,97          </td></tr>\n",
       "\t<tr><td>60 a 64 anos   </td><td> 973           </td><td>0,0252         </td><td> 2,52          </td></tr>\n",
       "\t<tr><td>65 a 69 anos   </td><td> 762           </td><td>0,0198         </td><td> 1,98          </td></tr>\n",
       "\t<tr><td>70 anos ou mais</td><td>1405           </td><td>0,0364         </td><td> 3,64          </td></tr>\n",
       "</tbody>\n",
       "</table>\n"
      ],
      "text/latex": [
       "\\begin{tabular}{r|llll}\n",
       " Classe & Fora de Terras Indígenas (fi) & Frequência (fri) & Porcentagem (100xfri)\\\\\n",
       "\\hline\n",
       "\t Menos de 1 ano  &  930            & 0,0241          &  2,41          \\\\\n",
       "\t 1 a  4 anos     & 3982            & 0,1032          & 10,32          \\\\\n",
       "\t 5 a  9 anos     & 4901            & 0,1271          & 12,71          \\\\\n",
       "\t 10 a 14 anos    & 4826            & 0,1251          & 12,51          \\\\\n",
       "\t 15 a 19 anos    & 4064            & 0,1054          & 10,54          \\\\\n",
       "\t 20 a 24 anos    & 3353            & 0,0869          &  8,69          \\\\\n",
       "\t 25 a 29 anos    & 2900            & 0,0752          &  7,52          \\\\\n",
       "\t 30 a 34 anos    & 2559            & 0,0663          &  6,63          \\\\\n",
       "\t 35 a 39 anos    & 2042            & 0,0529          &  5,29          \\\\\n",
       "\t 40 a 44 anos    & 1815            & 0,0471          &  4,71          \\\\\n",
       "\t 45 a 49 anos    & 1601            & 0,0415          &  4,15          \\\\\n",
       "\t 50 a 54 anos    & 1316            & 0,0341          &  3,41          \\\\\n",
       "\t 55 a 59 anos    & 1144            & 0,0297          &  2,97          \\\\\n",
       "\t 60 a 64 anos    &  973            & 0,0252          &  2,52          \\\\\n",
       "\t 65 a 69 anos    &  762            & 0,0198          &  1,98          \\\\\n",
       "\t 70 anos ou mais & 1405            & 0,0364          &  3,64          \\\\\n",
       "\\end{tabular}\n"
      ],
      "text/markdown": [
       "\n",
       "| Classe | Fora de Terras Indígenas (fi) | Frequência (fri) | Porcentagem (100xfri) |\n",
       "|---|---|---|---|\n",
       "| Menos de 1 ano  |  930            | 0,0241          |  2,41           |\n",
       "| 1 a  4 anos     | 3982            | 0,1032          | 10,32           |\n",
       "| 5 a  9 anos     | 4901            | 0,1271          | 12,71           |\n",
       "| 10 a 14 anos    | 4826            | 0,1251          | 12,51           |\n",
       "| 15 a 19 anos    | 4064            | 0,1054          | 10,54           |\n",
       "| 20 a 24 anos    | 3353            | 0,0869          |  8,69           |\n",
       "| 25 a 29 anos    | 2900            | 0,0752          |  7,52           |\n",
       "| 30 a 34 anos    | 2559            | 0,0663          |  6,63           |\n",
       "| 35 a 39 anos    | 2042            | 0,0529          |  5,29           |\n",
       "| 40 a 44 anos    | 1815            | 0,0471          |  4,71           |\n",
       "| 45 a 49 anos    | 1601            | 0,0415          |  4,15           |\n",
       "| 50 a 54 anos    | 1316            | 0,0341          |  3,41           |\n",
       "| 55 a 59 anos    | 1144            | 0,0297          |  2,97           |\n",
       "| 60 a 64 anos    |  973            | 0,0252          |  2,52           |\n",
       "| 65 a 69 anos    |  762            | 0,0198          |  1,98           |\n",
       "| 70 anos ou mais | 1405            | 0,0364          |  3,64           |\n",
       "\n"
      ],
      "text/plain": [
       "   Classe          Fora de Terras Indígenas (fi) Frequência (fri)\n",
       "1  Menos de 1 ano   930                          0,0241          \n",
       "2  1 a  4 anos     3982                          0,1032          \n",
       "3  5 a  9 anos     4901                          0,1271          \n",
       "4  10 a 14 anos    4826                          0,1251          \n",
       "5  15 a 19 anos    4064                          0,1054          \n",
       "6  20 a 24 anos    3353                          0,0869          \n",
       "7  25 a 29 anos    2900                          0,0752          \n",
       "8  30 a 34 anos    2559                          0,0663          \n",
       "9  35 a 39 anos    2042                          0,0529          \n",
       "10 40 a 44 anos    1815                          0,0471          \n",
       "11 45 a 49 anos    1601                          0,0415          \n",
       "12 50 a 54 anos    1316                          0,0341          \n",
       "13 55 a 59 anos    1144                          0,0297          \n",
       "14 60 a 64 anos     973                          0,0252          \n",
       "15 65 a 69 anos     762                          0,0198          \n",
       "16 70 anos ou mais 1405                          0,0364          \n",
       "   Porcentagem (100xfri)\n",
       "1   2,41                \n",
       "2  10,32                \n",
       "3  12,71                \n",
       "4  12,51                \n",
       "5  10,54                \n",
       "6   8,69                \n",
       "7   7,52                \n",
       "8   6,63                \n",
       "9   5,29                \n",
       "10  4,71                \n",
       "11  4,15                \n",
       "12  3,41                \n",
       "13  2,97                \n",
       "14  2,52                \n",
       "15  1,98                \n",
       "16  3,64                "
      ]
     },
     "metadata": {},
     "output_type": "display_data"
    }
   ],
   "source": [
    "mulher_rural_fora_freq_table"
   ]
  },
  {
   "cell_type": "code",
   "execution_count": 125,
   "metadata": {},
   "outputs": [
    {
     "data": {
      "text/html": [
       "<table>\n",
       "<thead><tr><th></th><th scope=col>media</th><th scope=col>desvio_padrao</th><th scope=col>q1</th><th scope=col>q3</th><th scope=col>lim_inferior</th><th scope=col>lim_superior</th><th scope=col>assimetria</th><th scope=col>curtose</th></tr></thead>\n",
       "<tbody>\n",
       "\t<tr><th scope=row>25%</th><td>2411     </td><td>1422     </td><td>1273     </td><td>3510,25  </td><td>-2082,875</td><td>6866,125 </td><td>0,5515281</td><td>1,895904 </td></tr>\n",
       "</tbody>\n",
       "</table>\n"
      ],
      "text/latex": [
       "\\begin{tabular}{r|llllllll}\n",
       "  & media & desvio\\_padrao & q1 & q3 & lim\\_inferior & lim\\_superior & assimetria & curtose\\\\\n",
       "\\hline\n",
       "\t25\\% & 2411      & 1422      & 1273      & 3510,25   & -2082,875 & 6866,125  & 0,5515281 & 1,895904 \\\\\n",
       "\\end{tabular}\n"
      ],
      "text/markdown": [
       "\n",
       "| <!--/--> | media | desvio_padrao | q1 | q3 | lim_inferior | lim_superior | assimetria | curtose |\n",
       "|---|---|---|---|---|---|---|---|---|\n",
       "| 25% | 2411      | 1422      | 1273      | 3510,25   | -2082,875 | 6866,125  | 0,5515281 | 1,895904  |\n",
       "\n"
      ],
      "text/plain": [
       "    media desvio_padrao q1   q3      lim_inferior lim_superior assimetria\n",
       "25% 2411  1422          1273 3510,25 -2082,875    6866,125     0,5515281 \n",
       "    curtose \n",
       "25% 1,895904"
      ]
     },
     "metadata": {},
     "output_type": "display_data"
    }
   ],
   "source": [
    "# Estatistica de Resumo `indigenas`\n",
    "resumo_estatistico(mulher_rural_fora_freq_table$`Fora de Terras Indígenas (fi)`)"
   ]
  },
  {
   "cell_type": "markdown",
   "metadata": {},
   "source": [
    "## Gráfico de Barras"
   ]
  },
  {
   "cell_type": "code",
   "execution_count": 59,
   "metadata": {},
   "outputs": [
    {
     "data": {
      "image/png": "[encoded data removed]",
      "text/plain": [
       "plot without title"
      ]
     },
     "metadata": {},
     "output_type": "display_data"
    }
   ],
   "source": [
    "plot1 <- mulher_rural_ind_freq_table %>%\n",
    "            ggplot(aes(fct_reorder(Classe,\n",
    "                           sort(`Declararam-se Indigenas (fi)`)),\n",
    "              `Declararam-se Indigenas (fi)`))+\n",
    "    coord_flip()+\n",
    "    geom_col(fill=\"lightblue\")+\n",
    "    ylim(0, 40000) +\n",
    "    labs(x = \"Idades\", y=\"Declararam-se Indígenas\") +\n",
    "    theme_classic()\n",
    "\n",
    "\n",
    "plot2 <- mulher_rural_nind_freq_table %>%\n",
    "    ggplot(aes(fct_reorder(Classe,\n",
    "                           sort(`Não se declararam(fi)`)),\n",
    "              `Não se declararam(fi)`))+\n",
    "    coord_flip()+\n",
    "    geom_col(fill=\"lightblue\")+\n",
    "    ylim(0, 40000) +\n",
    "    labs(x = \"Idades\", y=\"Não se declararam\") +\n",
    "    theme_classic()\n",
    "\n",
    "plot3 <- mulher_rural_fora_freq_table %>%\n",
    "    ggplot(aes(fct_reorder(Classe,\n",
    "                           sort(`Fora de Terras Indígenas (fi)`)),\n",
    "              `Fora de Terras Indígenas (fi)`))+\n",
    "    coord_flip()+\n",
    "    geom_col(fill=\"lightblue\")+\n",
    "    ylim(0, 40000) +\n",
    "    labs(x = \"Idades\", y=\"Fora de Terras Indígenas\") +\n",
    "    theme_classic()\n",
    "\n",
    "grid.arrange(plot1, plot2, plot3, nrow = 3)"
   ]
  },
  {
   "cell_type": "markdown",
   "metadata": {},
   "source": [
    "## Gráfico de Caixa - Box plot"
   ]
  },
  {
   "cell_type": "code",
   "execution_count": 34,
   "metadata": {},
   "outputs": [
    {
     "data": {
      "image/png": "[encoded data removed]",
      "text/plain": [
       "plot without title"
      ]
     },
     "metadata": {},
     "output_type": "display_data"
    }
   ],
   "source": [
    "boxplot(cbind(mulher_rural_ind_freq_table$`Declararam-se Indigenas (fi)`,\n",
    "              mulher_rural_nind_freq_table$`Não se declararam(fi)`,\n",
    "              mulher_rural_fora_freq_table$`Fora de Terras Indígenas (fi)`), horiz=TRUE, col=\"lightblue\",\n",
    "        names = c(\"Declararam-se Indigenas\", \"Não se declararam\", \"Fora de Terras Indigenas\"), ylab=\"Quantidade\")\n"
   ]
  },
  {
   "cell_type": "markdown",
   "metadata": {},
   "source": [
    "## Curva de Densidade"
   ]
  },
  {
   "cell_type": "code",
   "execution_count": 64,
   "metadata": {},
   "outputs": [
    {
     "data": {
      "image/png": "[encoded data removed]",
      "text/plain": [
       "Plot with title “”"
      ]
     },
     "metadata": {},
     "output_type": "display_data"
    }
   ],
   "source": [
    "par(mfrow = c(3,1)) \n",
    "plot(density(mulher_rural_ind_freq_table$`Declararam-se Indigenas (fi)`),main='',xlab='Indigena')\n",
    "plot(density(mulher_rural_nind_freq_table$`Não se declararam(fi)`), main=\"\", xlab=\"Não Indigena\")\n",
    "plot(density(mulher_rural_fora_freq_table$`Fora de Terras Indígenas (fi)`), main=\"\", xlab=\"Fora de Terras Indigenas\")"
   ]
  },
  {
   "cell_type": "markdown",
   "metadata": {},
   "source": [
    "# Distribuição do Sexo em Terras Indígenas"
   ]
  },
  {
   "cell_type": "code",
   "execution_count": 36,
   "metadata": {},
   "outputs": [],
   "source": [
    "total_homens <- sum(homem_rural_ind_freq_table$`Declararam-se Indigenas (fi)`,\n",
    "                    homem_rural_nind_freq_table$`Não se declararam(fi)`)\n",
    "\n",
    "total_mulheres <- sum(mulher_rural_ind_freq_table$`Declararam-se Indigenas (fi)`,\n",
    "                    mulher_rural_nind_freq_table$`Não se declararam(fi)`)\n",
    "\n",
    "\n",
    "distrib_sexo <- data.frame(\n",
    "    sexo = c(\"Homem\", \"Mulher\"),\n",
    "    contagem = c(total_homens, total_mulheres)\n",
    "    )\n",
    "\n",
    "\n",
    "# calculo de porcentagens\n",
    "distrib_sexo$porcentagem <- distrib_sexo$contagem/ sum(distrib_sexo$contagem)\n",
    "\n",
    "# computando as pocentagens\n",
    "distrib_sexo$ymax = cumsum(distrib_sexo$porcentagem)\n",
    "\n",
    "# Compute the bottom of each rectangle\n",
    "distrib_sexo$ymin = c(0, head(distrib_sexo$ymax, n=-1))\n",
    "\n",
    "# Compute label position\n",
    "distrib_sexo$labelPosition <- (distrib_sexo$ymax + distrib_sexo$ymin) / 2\n",
    "\n",
    "# Compute a good label\n",
    "distrib_sexo$label <- paste0(distrib_sexo$sexo, \":\\n\", round(distrib_sexo$porcentagem, 2)*100, \"%\")"
   ]
  },
  {
   "cell_type": "code",
   "execution_count": 37,
   "metadata": {},
   "outputs": [
    {
     "data": {
      "image/png": "[encoded data removed]",
      "text/plain": [
       "plot without title"
      ]
     },
     "metadata": {},
     "output_type": "display_data"
    }
   ],
   "source": [
    "# grafico \n",
    "# Make the plot\n",
    "ggplot(distrib_sexo, aes(ymax=ymax, ymin=ymin, xmax=4, xmin=3)) +\n",
    "    geom_rect(fill=c(\"royalblue\",\"red\")) +\n",
    "    geom_label( x=2, aes(y=labelPosition, label=label), size=5) + # x here controls label position (inner / outer)\n",
    "    scale_fill_manual(values=c(\"#999999\", \"#E69F00\")) +\n",
    "    #scale_fill_brewer(palette=3) +\n",
    "    #scale_color_brewer(palette=3) +\n",
    "    coord_polar(theta=\"y\") +\n",
    "    xlim(c(-1, 4)) +\n",
    "    theme_void() +\n",
    "    theme(legend.position = \"none\")\n"
   ]
  },
  {
   "cell_type": "markdown",
   "metadata": {},
   "source": [
    "# Distribuição do Sexo Fora de Terras Indígenas"
   ]
  },
  {
   "cell_type": "code",
   "execution_count": 38,
   "metadata": {},
   "outputs": [],
   "source": [
    "total_homens_fora <- sum(homem_rural_fora_freq_table$`Fora de Terras Indígenas (fi)`)\n",
    "\n",
    "total_mulheres_fora <- sum(mulher_rural_fora_freq_table$`Fora de Terras Indígenas (fi)`)\n",
    "\n",
    "\n",
    "distrib_sexo_fora <- data.frame(\n",
    "    sexo = c(\"Homem\", \"Mulher\"),\n",
    "    contagem = c(total_homens_fora, total_mulheres_fora)\n",
    "    )\n",
    "\n",
    "\n",
    "# calculo de porcentagens\n",
    "distrib_sexo_fora$porcentagem <- distrib_sexo_fora$contagem/ sum(distrib_sexo_fora$contagem)\n",
    "\n",
    "# computando as pocentagens\n",
    "distrib_sexo_fora$ymax = cumsum(distrib_sexo_fora$porcentagem)\n",
    "\n",
    "# Compute the bottom of each rectangle\n",
    "distrib_sexo_fora$ymin = c(0, head(distrib_sexo_fora$ymax, n=-1))\n",
    "\n",
    "# Compute label position\n",
    "distrib_sexo_fora$labelPosition <- (distrib_sexo_fora$ymax + distrib_sexo_fora$ymin) / 2\n",
    "\n",
    "# Compute a good label\n",
    "distrib_sexo_fora$label <- paste0(distrib_sexo_fora$sexo, \":\\n\", round(distrib_sexo_fora$porcentagem, 2)*100, \"%\")"
   ]
  },
  {
   "cell_type": "code",
   "execution_count": 39,
   "metadata": {},
   "outputs": [
    {
     "data": {
      "text/html": [
       "<table>\n",
       "<thead><tr><th scope=col>sexo</th><th scope=col>contagem</th><th scope=col>porcentagem</th><th scope=col>ymax</th><th scope=col>ymin</th><th scope=col>labelPosition</th><th scope=col>label</th></tr></thead>\n",
       "<tbody>\n",
       "\t<tr><td>Homem       </td><td>42090       </td><td>0,5218006   </td><td>0,5218006   </td><td>0,0000000   </td><td>0,2609003   </td><td>Homem:\n",
       "52% </td></tr>\n",
       "\t<tr><td>Mulher      </td><td>38573       </td><td>0,4781994   </td><td>1,0000000   </td><td>0,5218006   </td><td>0,7609003   </td><td>Mulher:\n",
       "48%</td></tr>\n",
       "</tbody>\n",
       "</table>\n"
      ],
      "text/latex": [
       "\\begin{tabular}{r|lllllll}\n",
       " sexo & contagem & porcentagem & ymax & ymin & labelPosition & label\\\\\n",
       "\\hline\n",
       "\t Homem          & 42090          & 0,5218006      & 0,5218006      & 0,0000000      & 0,2609003      & Homem:\n",
       "52\\% \\\\\n",
       "\t Mulher         & 38573          & 0,4781994      & 1,0000000      & 0,5218006      & 0,7609003      & Mulher:\n",
       "48\\%\\\\\n",
       "\\end{tabular}\n"
      ],
      "text/markdown": [
       "\n",
       "| sexo | contagem | porcentagem | ymax | ymin | labelPosition | label |\n",
       "|---|---|---|---|---|---|---|\n",
       "| Homem        | 42090        | 0,5218006    | 0,5218006    | 0,0000000    | 0,2609003    | Homem:\n",
       "52%  |\n",
       "| Mulher       | 38573        | 0,4781994    | 1,0000000    | 0,5218006    | 0,7609003    | Mulher:\n",
       "48% |\n",
       "\n"
      ],
      "text/plain": [
       "  sexo   contagem porcentagem ymax      ymin      labelPosition label       \n",
       "1 Homem  42090    0,5218006   0,5218006 0,0000000 0,2609003     Homem:\\n52% \n",
       "2 Mulher 38573    0,4781994   1,0000000 0,5218006 0,7609003     Mulher:\\n48%"
      ]
     },
     "metadata": {},
     "output_type": "display_data"
    }
   ],
   "source": [
    "distrib_sexo_fora"
   ]
  },
  {
   "cell_type": "code",
   "execution_count": 40,
   "metadata": {},
   "outputs": [
    {
     "data": {
      "image/png": "[encoded data removed]",
      "text/plain": [
       "plot without title"
      ]
     },
     "metadata": {},
     "output_type": "display_data"
    }
   ],
   "source": [
    "# grafico \n",
    "# Make the plot\n",
    "ggplot(distrib_sexo_fora, aes(ymax=ymax, ymin=ymin, xmax=4, xmin=3)) +\n",
    "    geom_rect(fill=c(\"royalblue\",\"red\")) +\n",
    "    geom_label( x=2, aes(y=labelPosition, label=label), size=5) + # x here controls label position (inner / outer)\n",
    "    scale_fill_brewer(palette=3) +\n",
    "    scale_color_brewer(palette=3) +\n",
    "    coord_polar(theta=\"y\") +\n",
    "    xlim(c(-1, 4)) +\n",
    "    theme_void() +\n",
    "    theme(legend.position = \"none\")\n"
   ]
  },
  {
   "cell_type": "markdown",
   "metadata": {},
   "source": [
    "A proporção se manteve\n"
   ]
  },
  {
   "cell_type": "markdown",
   "metadata": {},
   "source": [
    "# Relação de pessoas em terras indigenas e fora de terras indigenas "
   ]
  },
  {
   "cell_type": "code",
   "execution_count": 41,
   "metadata": {},
   "outputs": [],
   "source": [
    "total_terra_indigenas <- sum(homem_rural_ind_freq_table$`Declararam-se Indigenas (fi)`,\n",
    "                    homem_rural_nind_freq_table$`Não se declararam(fi)`,\n",
    "                             mulher_rural_ind_freq_table$`Declararam-se Indigenas (fi)`,\n",
    "                            mulher_rural_nind_freq_table$`Não se declararam(fi)`)\n",
    "\n",
    "total_fora_terras <- sum(homem_rural_fora_freq_table$`Fora de Terras Indígenas (fi)`,\n",
    "                        mulher_rural_fora_freq_table$`Fora de Terras Indígenas (fi)`)\n",
    "\n",
    "\n",
    "distrib_total <- data.frame(\n",
    "    area = c(\"Em terras indígenas\", \"Fora das terras indígenas\"),\n",
    "    contagem = c(total_terra_indigenas, total_fora_terras)\n",
    "    )\n",
    "\n",
    "\n",
    "# calculo de porcentagens\n",
    "distrib_total$porcentagem <- distrib_total$contagem/ sum(distrib_total$contagem)\n",
    "\n",
    "# computando as pocentagens\n",
    "distrib_total$ymax = cumsum(distrib_total$porcentagem)\n",
    "\n",
    "# Compute the bottom of each rectangle\n",
    "distrib_total$ymin = c(0, head(distrib_total$ymax, n=-1))\n",
    "\n",
    "# Compute label position\n",
    "distrib_total$labelPosition <- (distrib_total$ymax + distrib_total$ymin) / 2\n",
    "\n",
    "# Compute a good label\n",
    "distrib_total$label <- paste0(distrib_total$area, \":\\n\", round(distrib_total$porcentagem, 2)*100, \"%\")"
   ]
  },
  {
   "cell_type": "code",
   "execution_count": 42,
   "metadata": {},
   "outputs": [
    {
     "data": {
      "text/html": [
       "<table>\n",
       "<thead><tr><th scope=col>area</th><th scope=col>contagem</th><th scope=col>porcentagem</th><th scope=col>ymax</th><th scope=col>ymin</th><th scope=col>labelPosition</th><th scope=col>label</th></tr></thead>\n",
       "<tbody>\n",
       "\t<tr><td>Em terras indígenas            </td><td>491420                         </td><td>0,8590012                      </td><td>0,8590012                      </td><td>0,0000000                      </td><td>0,4295006                      </td><td>Em terras indígenas:\n",
       "86%      </td></tr>\n",
       "\t<tr><td>Fora das terras indígenas      </td><td> 80663                         </td><td>0,1409988                      </td><td>1,0000000                      </td><td>0,8590012                      </td><td>0,9295006                      </td><td>Fora das terras indígenas:\n",
       "14%</td></tr>\n",
       "</tbody>\n",
       "</table>\n"
      ],
      "text/latex": [
       "\\begin{tabular}{r|lllllll}\n",
       " area & contagem & porcentagem & ymax & ymin & labelPosition & label\\\\\n",
       "\\hline\n",
       "\t Em terras indígenas               & 491420                            & 0,8590012                         & 0,8590012                         & 0,0000000                         & 0,4295006                         & Em terras indígenas:\n",
       "86\\%      \\\\\n",
       "\t Fora das terras indígenas         &  80663                            & 0,1409988                         & 1,0000000                         & 0,8590012                         & 0,9295006                         & Fora das terras indígenas:\n",
       "14\\%\\\\\n",
       "\\end{tabular}\n"
      ],
      "text/markdown": [
       "\n",
       "| area | contagem | porcentagem | ymax | ymin | labelPosition | label |\n",
       "|---|---|---|---|---|---|---|\n",
       "| Em terras indígenas             | 491420                          | 0,8590012                       | 0,8590012                       | 0,0000000                       | 0,4295006                       | Em terras indígenas:\n",
       "86%       |\n",
       "| Fora das terras indígenas       |  80663                          | 0,1409988                       | 1,0000000                       | 0,8590012                       | 0,9295006                       | Fora das terras indígenas:\n",
       "14% |\n",
       "\n"
      ],
      "text/plain": [
       "  area                      contagem porcentagem ymax      ymin     \n",
       "1 Em terras indígenas       491420   0,8590012   0,8590012 0,0000000\n",
       "2 Fora das terras indígenas  80663   0,1409988   1,0000000 0,8590012\n",
       "  labelPosition label                          \n",
       "1 0,4295006     Em terras indígenas:\\n86%      \n",
       "2 0,9295006     Fora das terras indígenas:\\n14%"
      ]
     },
     "metadata": {},
     "output_type": "display_data"
    }
   ],
   "source": [
    "distrib_total"
   ]
  },
  {
   "cell_type": "code",
   "execution_count": 43,
   "metadata": {},
   "outputs": [
    {
     "data": {
      "image/png": "[encoded data removed]",
      "text/plain": [
       "plot without title"
      ]
     },
     "metadata": {},
     "output_type": "display_data"
    }
   ],
   "source": [
    "# grafico \n",
    "\n",
    "ggplot(distrib_total, aes(ymax=ymax, ymin=ymin, xmax=4, xmin=3)) +\n",
    "    geom_rect(fill=c(\"royalblue\",\"red\")) +\n",
    "    geom_label( x=2, aes(y=labelPosition, label=label), size=3.5) + # x here controls label position (inner / outer)\n",
    "    scale_fill_brewer(palette=1) +\n",
    "    scale_color_brewer(palette=5) +\n",
    "    coord_polar(theta=\"y\") +\n",
    "    xlim(c(-1, 4)) +\n",
    "    theme_void() +\n",
    "    theme(legend.position = \"none\")"
   ]
  },
  {
   "cell_type": "markdown",
   "metadata": {},
   "source": [
    "O padrão que foi apresentado quando analisamos os dados gerais e que se extendeu ao sexo masculino e feminino foi a média de pessoas que se declaram indígena estando em terras indígenas em comparação as que não se declaram e que estão fora das terras indígenas. Outro ponto interessante a levantar e que a grande maioria dos individuos são jovens abrangendo a casa dos 5 aos 29 anos, sendo a maior concentração no grupo de 5 a 9 anos. Um outro padrão visível nos dados é a queda no número de pessoas à medida que temos idades mais avançadas."
   ]
  },
  {
   "cell_type": "code",
   "execution_count": null,
   "metadata": {},
   "outputs": [],
   "source": []
  }
 ],
 "metadata": {
  "kernelspec": {
   "display_name": "R",
   "language": "R",
   "name": "ir"
  },
  "language_info": {
   "codemirror_mode": "r",
   "file_extension": ".r",
   "mimetype": "text/x-r-source",
   "name": "R",
   "pygments_lexer": "r",
   "version": "3.6.1"
  }
 },
 "nbformat": 4,
 "nbformat_minor": 4
}
